{
 "cells": [
  {
   "cell_type": "code",
   "execution_count": null,
   "id": "6185b715",
   "metadata": {},
   "outputs": [],
   "source": [
    "#Algorithms"
   ]
  },
  {
   "cell_type": "code",
   "execution_count": 1,
   "id": "c5d13974",
   "metadata": {},
   "outputs": [],
   "source": [
    "#Example 1\n",
    "#Let's create a iterative function that tells TRUE if the number is in the list or FALSE if there is not.\n",
    "def identify_number(list_of_numbers, specific_number): #This is the iterative function\n",
    "    for number in list_of_numbers:\n",
    "        if specific_number == number: \n",
    "            return True #If the number is found, return True and the function stop.\n",
    "    return False"
   ]
  },
  {
   "cell_type": "code",
   "execution_count": 4,
   "id": "26ac48b9",
   "metadata": {},
   "outputs": [
    {
     "name": "stdout",
     "output_type": "stream",
     "text": [
      "30\n"
     ]
    },
    {
     "data": {
      "text/plain": [
       "True"
      ]
     },
     "execution_count": 4,
     "metadata": {},
     "output_type": "execute_result"
    }
   ],
   "source": [
    "number_list = [1,20,32,4,65,46,12,8,34,10,11,30]\n",
    "n = int(input())\n",
    "identify_number(number_list, n)\n",
    "#The complexity is O(n) --> The function is executed, in the worst case, n times."
   ]
  },
  {
   "cell_type": "code",
   "execution_count": 32,
   "id": "1f83ae3b",
   "metadata": {},
   "outputs": [],
   "source": [
    "#Write the recursing function\n",
    "def rec_identify_number(list_of_numbers, specific_number):\n",
    "    if len(list_of_numbers) != 1:\n",
    "        rec_identify_number(list_of_numbers[0:len(list_of_numbers)//2], specific_number)\n",
    "        rec_identify_number(list_of_numbers[len(list_of_numbers)//2:], specific_number)\n",
    "    elif len(list_of_numbers) == 1:\n",
    "        if list_of_numbers[0] == specific_number:\n",
    "            return True\n",
    "    return False"
   ]
  },
  {
   "cell_type": "code",
   "execution_count": 49,
   "id": "e1b595c2",
   "metadata": {},
   "outputs": [],
   "source": [
    "#Write the recursing function\n",
    "def rec_identify_number(list_of_numbers, specific_number):\n",
    "    if (len(list_of_numbers) == 1): \n",
    "        if (list_of_numbers[0] == specific_number):\n",
    "            return True\n",
    "    else:\n",
    "        if rec_identify_number(list_of_numbers[0:len(list_of_numbers)//2], specific_number) == True:\n",
    "            return True\n",
    "        elif rec_identify_number(list_of_numbers[len(list_of_numbers)//2:], specific_number) == True:\n",
    "            return True\n",
    "    return False"
   ]
  },
  {
   "cell_type": "code",
   "execution_count": 52,
   "id": "63619c08",
   "metadata": {},
   "outputs": [
    {
     "name": "stdout",
     "output_type": "stream",
     "text": [
      "4\n"
     ]
    },
    {
     "data": {
      "text/plain": [
       "True"
      ]
     },
     "execution_count": 52,
     "metadata": {},
     "output_type": "execute_result"
    }
   ],
   "source": [
    "number_list = [1,20,32,4,65,46,12,8,34,10,11,30]\n",
    "n = int(input())\n",
    "rec_identify_number(number_list, n)"
   ]
  },
  {
   "cell_type": "code",
   "execution_count": 57,
   "id": "40a10150",
   "metadata": {},
   "outputs": [
    {
     "data": {
      "text/plain": [
       "True"
      ]
     },
     "execution_count": 57,
     "metadata": {},
     "output_type": "execute_result"
    }
   ],
   "source": [
    "#Teacher case\n",
    "def RecursiveNumber(list_of_numbers, specific_number):\n",
    "    #Base case, when it finishes\n",
    "    if len(list_of_numbers) == 1:\n",
    "        return list_of_numbers[0] == specific_number\n",
    "    #General case, when the function keeps going. We have to call the function two times for each part of the list\n",
    "    middle = len(list_of_numbers) // 2\n",
    "    #We need to keep returning in a recursive function until we are at the top.\n",
    "    if RecursiveNumber(list_of_numbers[:middle], specific_number):\n",
    "        return True\n",
    "    if RecursiveNumber(list_of_numbers[middle:], specific_number):\n",
    "        return True\n",
    "    return False #This line of code will be executed to return to the previous level once a leves is evaluated.\n",
    "RecursiveNumber([1,4,8,10], 4)"
   ]
  },
  {
   "cell_type": "code",
   "execution_count": 61,
   "id": "f27887a6",
   "metadata": {},
   "outputs": [],
   "source": [
    "number_list = [1,20,32,4,65,46,12,8,34,10,11,30]\n",
    "number_list.sort()"
   ]
  },
  {
   "cell_type": "code",
   "execution_count": 64,
   "id": "f2c480a4",
   "metadata": {},
   "outputs": [
    {
     "name": "stdout",
     "output_type": "stream",
     "text": [
      "[1, 4, 8, 10, 11, 12, 20, 30, 32, 34, 46, 65]\n"
     ]
    },
    {
     "data": {
      "text/plain": [
       "20"
      ]
     },
     "execution_count": 64,
     "metadata": {},
     "output_type": "execute_result"
    }
   ],
   "source": [
    "print(number_list)\n",
    "number_list[len(number_list)//2]"
   ]
  },
  {
   "cell_type": "code",
   "execution_count": 121,
   "id": "7afb3a6d",
   "metadata": {},
   "outputs": [],
   "source": [
    "#Find a number in a sorted list\n",
    "def find_sort_list(list_numbers, number):\n",
    "    #Base case: \n",
    "    if len(list_numbers) == 1:\n",
    "        return list_numbers[0] == number #Remember that we need to access to the list number\n",
    "    #General case\n",
    "    #To find the number, we need to see if our number is inside one sublist or another\n",
    "    middle=list_numbers[len(list_numbers)//2]\n",
    "    #Here we have the recursion: we discard half of the elements of the list.\n",
    "    if number < middle: #If this is true, we will use the second half of the list.\n",
    "        #We do not need the if: because we won't need to check the other part if we enter here.\n",
    "        #The second part will always have the middle number and the others.\n",
    "        return find_sort_list(list_numbers[:len(list_numbers)//2], number) #If the number I'm searching is smaller than the half number, we will continue only in the first half.\n",
    "         #if it ends true, we will execute this to keep going up on the recursive tree to end it. \n",
    "    #Otherwise, we will use the first part.    \n",
    "    else:\n",
    "        return find_sort_list(list_numbers[len(list_numbers)//2:], number) #If the number is bigger, we will use the second part.\n",
    "            #if it ends true, we will execute this to keep going up on the recursive tree to end it.  "
   ]
  },
  {
   "cell_type": "code",
   "execution_count": 129,
   "id": "f18ecd12",
   "metadata": {},
   "outputs": [
    {
     "name": "stdout",
     "output_type": "stream",
     "text": [
      "10\n"
     ]
    },
    {
     "data": {
      "text/plain": [
       "True"
      ]
     },
     "execution_count": 129,
     "metadata": {},
     "output_type": "execute_result"
    }
   ],
   "source": [
    "number_list = [1,20,32,4,65,46,12,8,34,10,11,30]\n",
    "number_list.sort()\n",
    "n = int(input())\n",
    "find_sort_list(number_list, n)"
   ]
  },
  {
   "cell_type": "code",
   "execution_count": 51,
   "id": "b9627d3a",
   "metadata": {},
   "outputs": [],
   "source": [
    "#Example exam exercise 5. Find the closest pair of numbers\n",
    "#a) Iterative way\n",
    "def iterative_closestpair(number_list):\n",
    "    if len(number_list) == 0:\n",
    "        return \"Imbecil\"\n",
    "    minimum_diff=number_list[-1]-number_list[0]\n",
    "    for number in range(len(number_list)-1): #We start iterating over each number\n",
    "        diff_new = number_list[number+1]-number_list[number]\n",
    "        if diff_new < minimum_diff: \n",
    "            minimum_diff = diff_new\n",
    "            pairs=[number_list[number], number_list[number+1]]\n",
    "    return pairs, minimum_diff\n",
    "#b) Recursive way\n",
    "def recursive_closestpair(number_list, minimum_diff=-1):\n",
    "    #Base case:\n",
    "    if len(number_list) < 2: #Once we no longer have elements to substract, we will return the same difference\n",
    "        return minimum_diff\n",
    "    #General case: The script will do this until the len of the list is 2.\n",
    "    diff_new=number_list[1]-number_list[0]\n",
    "    if (diff_new < minimum_diff) or (minimum_diff == -1): #The first case will have -1 always, and we need to replace this number.\n",
    "        minimum_diff = diff_new\n",
    "    return recursive_closestpair(number_list[1:], minimum_diff)\n",
    "#c) Divide and conquer! \n",
    "def divconq_closestpair(number_list):\n",
    "    #Base case\n",
    "    #Once we have two elements, we need to compare\n",
    "    if len(number_list) == 2:\n",
    "        return number_list[1] - number_list[0] #The base case always needs a return to start going up in the tree to the previous levels\n",
    "    #General case --> We will divide the list by two and test.\n",
    "    #We need to keep dividng the list with one element repeated all the time so we can compare.\n",
    "    min_1=divconq_closestpair(number_list[:len(number_list)//2+1])#In this part there is NOT the middle number, only the 1st part.\n",
    "    min_2=divconq_closestpair(number_list[len(number_list)//2:]) #In this part there IS the middle number and the 2nd part\n",
    "    return min(min_1, min_2)"
   ]
  },
  {
   "cell_type": "code",
   "execution_count": 91,
   "id": "f659b8bb",
   "metadata": {},
   "outputs": [],
   "source": [
    "#Develop a program that sorts a list using divide and conquer. \n",
    "list_1 = [38, 27, 43, 3, 9, 82, 10]\n",
    "def order_list(list_to_order, element_1 = [], element_2 = []): \n",
    "    #Base case: we have one element and we order it\n",
    "    if len(list_to_order) == 1:\n",
    "        return list_to_order\n",
    "    #Base case: we need to separate the list in two sublists and generate the new list.\n",
    "    middle = len(list_to_order)//2\n",
    "    element_1.append(order_list(list_to_order[:middle]))\n",
    "    element_2.append(order_list(list_to_order[middle:]))\n",
    "    return merge_lists(element_1, element_2)"
   ]
  },
  {
   "cell_type": "code",
   "execution_count": 95,
   "id": "c25f218a",
   "metadata": {},
   "outputs": [],
   "source": [
    "def merge_lists(list_1, list_2, merged=[]): #Both lists are ordered.\n",
    "    #Base case\n",
    "    if len(list_1) == 0:\n",
    "            merged.extend(list_2)\n",
    "            return merged\n",
    "    elif len(list_2) == 0:\n",
    "            merged.extend(list_1)\n",
    "            return merged\n",
    "    #General case.\n",
    "    if list_1[0] < list_2[0]:\n",
    "        merged.append(list_1[0])\n",
    "        return merge_lists(list_1[1:], list_2, merged)\n",
    "    else:\n",
    "        merged.append(list_2[0])\n",
    "        return merge_lists(list_1, list_2[1:], merged)"
   ]
  },
  {
   "cell_type": "code",
   "execution_count": 96,
   "id": "a5e7940b",
   "metadata": {},
   "outputs": [
    {
     "data": {
      "text/plain": [
       "[1, 8, 10, 32, 34, 50, 100, 101, 102, 200, 300]"
      ]
     },
     "execution_count": 96,
     "metadata": {},
     "output_type": "execute_result"
    }
   ],
   "source": [
    "list_1, list_2 = [1, 8, 32, 100, 102], [10, 34, 50, 101, 200, 300]\n",
    "merge_lists(list_1, list_2)"
   ]
  },
  {
   "cell_type": "code",
   "execution_count": 98,
   "id": "9ddd1146",
   "metadata": {},
   "outputs": [
    {
     "data": {
      "text/plain": [
       "[3, 9, 10, 27, 38, 43, 82]"
      ]
     },
     "execution_count": 98,
     "metadata": {},
     "output_type": "execute_result"
    }
   ],
   "source": [
    "def merge_lists(list_1, list_2, merged=[]): #Both lists are ordered.\n",
    "    #Base case\n",
    "    if len(list_1) == 0:\n",
    "            merged.extend(list_2)\n",
    "            return merged\n",
    "    elif len(list_2) == 0:\n",
    "            merged.extend(list_1)\n",
    "            return merged\n",
    "    #General case.\n",
    "    if list_1[0] < list_2[0]:\n",
    "        merged.append(list_1[0])\n",
    "        return merge_lists(list_1[1:], list_2, merged)\n",
    "    else:\n",
    "        merged.append(list_2[0])\n",
    "        return merge_lists(list_1, list_2[1:], merged)\n",
    "\n",
    "#Develop a program that sorts a list using divide and conquer.\n",
    "\n",
    "def order_list(list_to_order):\n",
    "    #Base case: we have one element and we order it\n",
    "    if len(list_to_order) == 1:\n",
    "        return list_to_order\n",
    "    #Base case: we need to separate the list in two sublists and generate the new list.\n",
    "    middle = len(list_to_order)//2\n",
    "    element_1=(order_list(list_to_order[:middle]))\n",
    "    element_2=(order_list(list_to_order[middle:]))\n",
    "    return merge_lists(element_1, element_2, merged=[]) #We need to specify that merge is null, otherwise it will take the last merged item created and will print lots of things.\n",
    "#Remember that this is a tree, each level has different element_1 and element_2 but the below element_1 does not change the element_1 above, so when we return at the level we will have that return.\n",
    "list_1 = [38, 27, 43, 3, 9, 82, 10]\n",
    "print(order_list(list_1))"
   ]
  },
  {
   "cell_type": "code",
   "execution_count": 106,
   "id": "d4ced542",
   "metadata": {},
   "outputs": [],
   "source": [
    "def personal_function():\n",
    "    import random\n",
    "    list_to_test = []\n",
    "    for i in range(1000000):\n",
    "        list_to_test.append(random.random())\n",
    "    def merge_lists(list_1, list_2, merged=[]): #Both lists are ordered.\n",
    "        #Base case\n",
    "        if len(list_1) == 0:\n",
    "                merged.extend(list_2)\n",
    "                return merged\n",
    "        elif len(list_2) == 0:\n",
    "                merged.extend(list_1)\n",
    "                return merged\n",
    "        #General case.\n",
    "        if list_1[0] < list_2[0]:\n",
    "            merged.append(list_1[0])\n",
    "            return merge_lists(list_1[1:], list_2, merged)\n",
    "        else:\n",
    "            merged.append(list_2[0])\n",
    "            return merge_lists(list_1, list_2[1:], merged)\n",
    "\n",
    "#Develop a program that sorts a list using divide and conquer.\n",
    "    def order_list(list_to_order):\n",
    "        #Base case: we have one element and we order it\n",
    "        if len(list_to_order) == 1:\n",
    "            return list_to_order\n",
    "        #Base case: we need to separate the list in two sublists and generate the new list.\n",
    "        middle = len(list_to_order)//2\n",
    "        element_1=(order_list(list_to_order[:middle]))\n",
    "        element_2=(order_list(list_to_order[middle:]))\n",
    "        return merge_lists(element_1, element_2, merged=[]) #We need to specify that merge is null, otherwise it will take the last merged item created and will print lots of things.\n",
    "    order_list(list_to_test)"
   ]
  },
  {
   "cell_type": "code",
   "execution_count": 36,
   "id": "3627f6d5",
   "metadata": {},
   "outputs": [
    {
     "name": "stdout",
     "output_type": "stream",
     "text": [
      "[2, 5, 10, 10, 2, 4]\n",
      "[101, 23, 2, 5, 212, 10, 4]\n",
      "[2, 4, 5, 10, 23, 101, 212]\n",
      "[23, 10, 10]\n",
      "[23, 10, 10]\n"
     ]
    }
   ],
   "source": [
    "#Exercise 1. Implement a function that, given a list of integers, returns the same list but:\n",
    "list_integers = [101, 23, 2, 5, 212, 10, 10, 2, 4]\n",
    "#a) [0.5p] Removing the elements above 10\n",
    "def remove_above10(list_integers):\n",
    "    new_list=[]\n",
    "    for element in list_integers:\n",
    "        if element <= 10: \n",
    "            new_list.append(element)\n",
    "    return new_list\n",
    "remove_above10(list_integers)\n",
    "#Pythonics\n",
    "def remove_concise(list_integers):\n",
    "    return [element for element in list_integers if element <= 10]\n",
    "print(remove_concise(list_integers))\n",
    "\n",
    "#b) [0.5p] Removing duplicates\n",
    "def remove_dups(list_integers):\n",
    "    new_list=[]\n",
    "    for element in list_integers:\n",
    "        if element not in new_list:\n",
    "            new_list.append(element)\n",
    "    return new_list\n",
    "print(remove_dups(list_integers))\n",
    "#Pyhtonics\n",
    "def remove_dups_concise(list_integers):\n",
    "    #Sorted function does not save the sorted list again.\n",
    "    return [element for index,element in enumerate(sorted(list_integers)) if (index==0) or (sorted(list_integers)[index] != sorted(list_integers)[index-1])]\n",
    "print(remove_dups_concise(list_integers))\n",
    "#c) [1p] Removing capicua numbers (e.g., 212 is capicua, 123 is not). Numbers from 0 to 9 are capicua!\n",
    "def remove_capicua(list_integers):\n",
    "    no_capicua=[]\n",
    "    for element in list_integers:\n",
    "        for index,i in enumerate(str(element)):\n",
    "            if str(element)[index] == str(element)[len(str(element))-1-index]: #We could do str(element) == str(element)[::-1]\n",
    "                break\n",
    "        else:\n",
    "                no_capicua.append(element)\n",
    "    return no_capicua\n",
    "print(remove_capicua(list_integers))\n",
    "#Pythonics\n",
    "def remove_cap_concise(list_integers):\n",
    "    return [element for element in list_integers if str(element) != str(element)[::-1]]\n",
    "print(remove_cap_concise(list_integers))"
   ]
  },
  {
   "cell_type": "code",
   "execution_count": 58,
   "id": "c38051de",
   "metadata": {},
   "outputs": [
    {
     "name": "stdout",
     "output_type": "stream",
     "text": [
      "Write the length of the base of the triangle: 7\n",
      "   ^   \n",
      "  / \\  \n",
      " /   \\ \n",
      "/     \\\n",
      "_______\n"
     ]
    }
   ],
   "source": [
    "#Exercise 2. [1p] Implement a function that draws a triangle on screen given the length of the base. \n",
    "def build_triangle(base):\n",
    "    if base%2!=0: #The top of the sequence, if odd, has a ^ in the middle. \n",
    "        print(\" \"*(base//2)+\"^\"+\" \"*(base//2))\n",
    "    for level in range(base//2): #We need half the height.\n",
    "        if base%2==0: #If even:\n",
    "            print(\" \"*((base//2)-level-1)+\"/\"+\" \"*(level*2)+\"\\\\\"+\" \"*((base//2)-level-1))\n",
    "        else:\n",
    "            print(\" \"*((base//2)-level-1)+\"/\"+\" \"*(level*2+1)+\"\\\\\"+\" \"*((base//2)-level-1))\n",
    "    print(\"_\"*base)\n",
    "build_triangle(int(input(\"Write the length of the base of the triangle: \")))"
   ]
  },
  {
   "cell_type": "code",
   "execution_count": 82,
   "id": "d3e0f0c2",
   "metadata": {},
   "outputs": [
    {
     "name": "stdout",
     "output_type": "stream",
     "text": [
      "The number of sequences written are 5. The number of A: 10, the number of T: 30, the number of C: 10, the number of G: 30, the number of N: 0.\n"
     ]
    }
   ],
   "source": [
    "#Exercise 3. Given two FASTQ files:\n",
    "#We imagine that both files ahve the same length.\n",
    "#a) [1p] Produce a new FASTQ file that contains the input FASTQ files interleaved (Note the /1 and /2 appended to the TAG).\n",
    "def interleave_fastq(int_file_1, int_file_2, out_file):\n",
    "    with open(int_file_1) as int_1: \n",
    "        with open(int_file_2) as int_2:\n",
    "            with open(out_file, \"w\") as out:\n",
    "                tag_sequence_1, tag_sequence_2 = \"\", \"\"\n",
    "                for index_1, (content_1, content_2) in enumerate(zip(int_1, int_2)):\n",
    "                    if index_1%4==0:\n",
    "                        if tag_sequence_1: #If any of the tags are saved and we return to the first element, we have to save it in the output file.\n",
    "                            out.write(tag_sequence_1)\n",
    "                            out.write(tag_sequence_2)\n",
    "                        #After it, we save the following sequence.    \n",
    "                        tag_sequence_1 = content_1.strip()+\"/1\"+\"\\n\"\n",
    "                        tag_sequence_2 = content_2.strip()+\"/2\"+\"\\n\"\n",
    "                    else:\n",
    "                        tag_sequence_1 += content_1.strip()+\"\\n\"\n",
    "                        tag_sequence_2 += content_2.strip()+\"\\n\"\n",
    "                out.write(tag_sequence_1)\n",
    "                out.write(tag_sequence_2)\n",
    "interleave_fastq(\"sample.1.fastq\", \"sample.2.fastq\", \"output_1.txt\")\n",
    "\n",
    "#b) [1p] Produce a new FASTQ file that contains the sequences from both input files pasted. Additionally, count the number of sequences pasted and bases (broken down by base A, C, G, T, and N).\n",
    "\n",
    "#To count the bases\n",
    "def count_bases(sequence, count_A, count_T, count_C, count_G, count_N):\n",
    "    for base in sequence:\n",
    "        if base == \"A\":\n",
    "            count_A += 1\n",
    "        elif base == \"T\":\n",
    "            count_T += 1\n",
    "        elif base == \"C\":\n",
    "            count_C += 1\n",
    "        elif base == \"G\":\n",
    "            count_G += 1\n",
    "        else:\n",
    "            count_N += 1\n",
    "    return count_A, count_T, count_C, count_G, count_N\n",
    "\n",
    "def interleave_more_fastq(int_file_1, int_file_2, out_file):\n",
    "    with open(int_file_1) as int_1: \n",
    "        with open(int_file_2) as int_2:\n",
    "            with open(out_file, \"w\") as out:\n",
    "                count_pasted = 0\n",
    "                count_A, count_T, count_C, count_G, count_N = 0, 0, 0, 0, 0 \n",
    "                #In this case, we want to merge both sequences in just one.\n",
    "                tag_sequence= \"\"\n",
    "                for index_1, (content_1, content_2) in enumerate(zip(int_1, int_2)):\n",
    "                    if index_1%4==0:\n",
    "                        if tag_sequence: #If any of the tags are saved and we return to the first element, we have to save it in the output file.\n",
    "                            out.write(tag_sequence)\n",
    "                            count_pasted += 1\n",
    "                        #After it, we save the following sequence.    \n",
    "                        tag_sequence = content_1.strip()+\"\\n\"\n",
    "                    elif index_1%4==1: #If we are in the sequence\n",
    "                        seq = content_1.strip()+content_2.strip()\n",
    "                        tag_sequence += seq+\"\\n\"\n",
    "                        count_A, count_T, count_C, count_G, count_N = count_bases(seq, count_A, count_T, count_C, count_G, count_N)\n",
    "                    elif index_1%4 == 2: #If we are in the \"+\"\n",
    "                        tag_sequence += \"+\\n\"\n",
    "                    else:\n",
    "                        tag_sequence += content_1.strip()+content_2.strip()+\"\\n\"\n",
    "                out.write(tag_sequence)\n",
    "                count_pasted += 1\n",
    "                print(f\"The number of sequences written are {count_pasted}. The number of A: {count_A}, the number of T: {count_T}, the number of C: {count_C}, the number of G: {count_G}, the number of N: {count_N}.\")\n",
    "interleave_more_fastq(\"sample.1.fastq\", \"sample.2.fastq\", \"output_1.txt\")"
   ]
  },
  {
   "cell_type": "code",
   "execution_count": 75,
   "id": "7a1e82ba",
   "metadata": {},
   "outputs": [],
   "source": [
    "def count_bases(sequence, count_A, count_T, count_C, count_G, count_N):\n",
    "    for base in sequence:\n",
    "        if base == \"A\":\n",
    "            count_A += 1\n",
    "        elif base == \"T\":\n",
    "            count_T += 1\n",
    "        elif base == \"C\":\n",
    "            count_C += 1\n",
    "        elif base == \"G\":\n",
    "            count_G += 1\n",
    "        else:\n",
    "            count_N += 1\n",
    "    return count_A, count_T, count_C, count_G, count_N"
   ]
  }
 ],
 "metadata": {
  "kernelspec": {
   "display_name": "Python 3 (ipykernel)",
   "language": "python",
   "name": "python3"
  },
  "language_info": {
   "codemirror_mode": {
    "name": "ipython",
    "version": 3
   },
   "file_extension": ".py",
   "mimetype": "text/x-python",
   "name": "python",
   "nbconvert_exporter": "python",
   "pygments_lexer": "ipython3",
   "version": "3.11.3"
  }
 },
 "nbformat": 4,
 "nbformat_minor": 5
}
