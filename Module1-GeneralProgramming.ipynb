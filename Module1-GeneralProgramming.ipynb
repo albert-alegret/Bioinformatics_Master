{
 "cells": [
  {
   "cell_type": "code",
   "execution_count": null,
   "id": "70a25279",
   "metadata": {},
   "outputs": [],
   "source": [
    "\"\"\"\n",
    "DIA 1\n",
    "\"\"\""
   ]
  },
  {
   "cell_type": "code",
   "execution_count": 1,
   "id": "f01d1e9b",
   "metadata": {},
   "outputs": [
    {
     "name": "stdout",
     "output_type": "stream",
     "text": [
      "Hi students!\n"
     ]
    }
   ],
   "source": [
    "print(\"Hi students!\")"
   ]
  },
  {
   "cell_type": "code",
   "execution_count": 4,
   "id": "e272b102",
   "metadata": {},
   "outputs": [
    {
     "name": "stdout",
     "output_type": "stream",
     "text": [
      "My name is Albert and I am 22\n"
     ]
    }
   ],
   "source": [
    "name, age = \"Albert\", 22\n",
    "print(f\"My name is {name} and I am {age}\")"
   ]
  },
  {
   "cell_type": "code",
   "execution_count": 5,
   "id": "16120771",
   "metadata": {},
   "outputs": [
    {
     "data": {
      "text/plain": [
       "6"
      ]
     },
     "execution_count": 5,
     "metadata": {},
     "output_type": "execute_result"
    }
   ],
   "source": [
    "42 #This is a value\n",
    "n = 5 #This is a variable\n",
    "4 + 2 #This is an expression. "
   ]
  },
  {
   "cell_type": "code",
   "execution_count": 6,
   "id": "0a2d7eed",
   "metadata": {},
   "outputs": [
    {
     "data": {
      "text/plain": [
       "2"
      ]
     },
     "execution_count": 6,
     "metadata": {},
     "output_type": "execute_result"
    }
   ],
   "source": [
    "#Arithmetic operators.\n",
    "8 % 3 #To compute the module of a number. \n",
    "2**3 #To compute the power of a number."
   ]
  },
  {
   "cell_type": "code",
   "execution_count": 9,
   "id": "b7502875",
   "metadata": {},
   "outputs": [
    {
     "data": {
      "text/plain": [
       "2"
      ]
     },
     "execution_count": 9,
     "metadata": {},
     "output_type": "execute_result"
    }
   ],
   "source": [
    "#Assignment operators\n",
    "x = 5 #First we create the new variable with a value. \n",
    "x += 3 #We add 5 to the x variable. --> x = x + 3. x will be equal to 8.\n",
    "x -= 2 #We substract 3 to the variable x. X will be equal to 6. "
   ]
  },
  {
   "cell_type": "code",
   "execution_count": 10,
   "id": "c5621380",
   "metadata": {},
   "outputs": [
    {
     "name": "stdout",
     "output_type": "stream",
     "text": [
      "2\n",
      "7\n",
      "2.3333333333333335\n"
     ]
    }
   ],
   "source": [
    "x = 1\n",
    "x *= 1+1\n",
    "print(x)\n",
    "x += 2+3\n",
    "print(x)\n",
    "x /= 3\n",
    "print(x)"
   ]
  },
  {
   "cell_type": "code",
   "execution_count": 15,
   "id": "d47eea07",
   "metadata": {},
   "outputs": [
    {
     "data": {
      "text/plain": [
       "True"
      ]
     },
     "execution_count": 15,
     "metadata": {},
     "output_type": "execute_result"
    }
   ],
   "source": [
    "#Boolean expression\n",
    "a, b = 56, 2\n",
    "a == b #It tests if they are equal. --> False. \n",
    "a != b #It tests if they are different. --> True.\n",
    "a < b #It tests if a is smaller than b --> False\n",
    "a >= b #It tests if a is bigger or equal than b --> True"
   ]
  },
  {
   "cell_type": "code",
   "execution_count": 21,
   "id": "28858e1e",
   "metadata": {},
   "outputs": [
    {
     "data": {
      "text/plain": [
       "False"
      ]
     },
     "execution_count": 21,
     "metadata": {},
     "output_type": "execute_result"
    }
   ],
   "source": [
    "#not\n",
    "a, b = 2, 2\n",
    "not a == b"
   ]
  },
  {
   "cell_type": "code",
   "execution_count": 24,
   "id": "c9beb37e",
   "metadata": {},
   "outputs": [
    {
     "data": {
      "text/plain": [
       "False"
      ]
     },
     "execution_count": 24,
     "metadata": {},
     "output_type": "execute_result"
    }
   ],
   "source": [
    "# and (&). It returns true only if all the expressions that are evaluated are True. Otherwise, it will return false. \n",
    "a, b = 222, 2\n",
    "(a > 0) and (b > 1) # True and True. --> True. \n",
    "(a > 0) & (b > 100000) #True and False. --> False"
   ]
  },
  {
   "cell_type": "code",
   "execution_count": 27,
   "id": "dbcb03f1",
   "metadata": {},
   "outputs": [
    {
     "data": {
      "text/plain": [
       "False"
      ]
     },
     "execution_count": 27,
     "metadata": {},
     "output_type": "execute_result"
    }
   ],
   "source": [
    "# or (|). It returns false only if every expression is false. If only one of them (or both) are true, it will return True. \n",
    "a, b = 222, 2\n",
    "(a > 0) or (b > 1) # True and True. --> True. \n",
    "(a > 0) | (b > 100000) #True and False. --> True\n",
    "(a > 1000) | (b > 100000) #False and False. --> False"
   ]
  },
  {
   "cell_type": "code",
   "execution_count": 20,
   "id": "d5167885",
   "metadata": {},
   "outputs": [
    {
     "name": "stdout",
     "output_type": "stream",
     "text": [
      "True\n",
      "True\n",
      "True\n",
      "False\n"
     ]
    }
   ],
   "source": [
    "#Exemples\n",
    "a, b = 4, 5\n",
    "x = (b >= a) & (b >= 0) #& = and --> True.\n",
    "print(x)\n",
    "x = (b >= a) | (b >= 0) # | == or. --> True. \n",
    "print(x)\n",
    "x = (b >= a) | (b >= 1000) # --> True\n",
    "print(x)\n",
    "x = not ((b >= a) | (b >= 1000)) #not gives us the opposite result. If one of both are true, the statement would be true, but with the not, it will return the opposite result. --> False\n",
    "print(x)"
   ]
  },
  {
   "cell_type": "code",
   "execution_count": 32,
   "id": "ab8cd7f2",
   "metadata": {},
   "outputs": [
    {
     "name": "stdout",
     "output_type": "stream",
     "text": [
      "Albert is 22 years old.\n",
      "AlbertAlbertAlbert\n"
     ]
    }
   ],
   "source": [
    "#String expressions\n",
    "name = \"Albert\"\n",
    "age = \"22\"\n",
    "x = name + \" is \" + age +\" years old.\" #The '+' symbol is used to concatenate strings. \n",
    "print(x)\n",
    "x = name * 3 # The '*' operator is used to repeat the used string an specific number of times.\n",
    "print(x)"
   ]
  },
  {
   "cell_type": "code",
   "execution_count": 35,
   "id": "99675615",
   "metadata": {},
   "outputs": [
    {
     "name": "stdout",
     "output_type": "stream",
     "text": [
      "Albert is 22 years old.\n"
     ]
    }
   ],
   "source": [
    "#Data types\n",
    "name, age = \"Albert\", 22\n",
    "#x = name + \" is \" + age + \" years old.\" #Error, age is an int not a str. \n",
    "x = name + \" is \" + str(age) + \" years old.\" #We have converted the age integer to a str using str function. We can also use age = \"22\". \n",
    "print(x)"
   ]
  },
  {
   "cell_type": "code",
   "execution_count": 38,
   "id": "77f6fc9d",
   "metadata": {},
   "outputs": [
    {
     "data": {
      "text/plain": [
       "24.0"
      ]
     },
     "execution_count": 38,
     "metadata": {},
     "output_type": "execute_result"
    }
   ],
   "source": [
    "#Data types\n",
    "num1 = \"21\" #num1 contains a number but the object is a string.\n",
    "num2 = \"3\" #num2 contains another string.\n",
    "num1 + num2 # \"21\" + \"3\" = \"213\". This is not an addition, it is concatenating both strings\n",
    "int(num1) + int(num2) # 21 + 3 = 24\n",
    "float(num1) + float(num2) # 21 + 3 = 24"
   ]
  },
  {
   "cell_type": "code",
   "execution_count": 40,
   "id": "ea3c0778",
   "metadata": {},
   "outputs": [
    {
     "name": "stdout",
     "output_type": "stream",
     "text": [
      "patata\n"
     ]
    }
   ],
   "source": [
    "#Comments\n",
    "\n",
    "'''\n",
    "To comment a thing\n",
    "'''\n",
    "\n",
    "\"\"\"\n",
    "To comment another thing\n",
    "\"\"\"\n",
    "\n",
    "#HEHE, more comments."
   ]
  },
  {
   "cell_type": "code",
   "execution_count": 45,
   "id": "75554adc",
   "metadata": {},
   "outputs": [
    {
     "name": "stdout",
     "output_type": "stream",
     "text": [
      "False\n",
      "False\n",
      "True\n"
     ]
    }
   ],
   "source": [
    "#Final exercice E1.\n",
    "x = (5+4*(2/4)) > (5**2-3) #7 > 22 --> False.\n",
    "print(x)\n",
    "x = not(((2/4)+2) <= (5**2-3) or (3*4+5) == (4*3+5)) # not(((2.5) <= (22) | (17) == (17))) -> False. \n",
    "print(x)\n",
    "x = (\"Bioinformatics\" > \"Artifacts\") #Aquí compta la longitud. 14 > 9 --> True.\n",
    "print(x)"
   ]
  },
  {
   "cell_type": "code",
   "execution_count": 54,
   "id": "cb5b7ec6",
   "metadata": {},
   "outputs": [
    {
     "name": "stdout",
     "output_type": "stream",
     "text": [
      "The average height is 1.7233333333333334 and the standard deviation is 0.09177266598624134\n",
      "The average height is 1.7233 and the standard deviation is 0.0918\n",
      "This person has 37 years left\n"
     ]
    }
   ],
   "source": [
    "#E1. Compute the mean height and the stdev of three students. \n",
    "paul = 1.6\n",
    "sarah = 1.82\n",
    "robert = 1.75\n",
    "height = (paul + sarah + robert)/3\n",
    "stddev = (((paul-height)**2+(sarah-height)**2+(robert-height)**2)/3)**(1/2)\n",
    "print(\"The average height is \" + str(height) + \" and the standard deviation is \" + str(stddev))\n",
    "print(f\"The average height is {height:.4f} and the standard deviation is {stddev:.4f}\")\n",
    "#E2. Compute the amount of years left to live for someone given his year_birth and year_decessed.\n",
    "year_birth = 1995\n",
    "year_deceased = 2060\n",
    "print(f\"This person has {year_deceased - 2023} years left\")"
   ]
  },
  {
   "cell_type": "code",
   "execution_count": null,
   "id": "0e761f06",
   "metadata": {},
   "outputs": [],
   "source": [
    "\"\"\"\n",
    "DIA 2\n",
    "\"\"\""
   ]
  },
  {
   "cell_type": "code",
   "execution_count": 3,
   "id": "227c3f68",
   "metadata": {},
   "outputs": [
    {
     "name": "stdout",
     "output_type": "stream",
     "text": [
      "X is greater than 10\n",
      "End of the if clause\n"
     ]
    }
   ],
   "source": [
    "#Conditional statement type 1\n",
    "x = 11\n",
    "if x > 10: #if is the basic operator of the conditional statement.\n",
    "    print(\"X is greater than 10\") #The identation indicates that we are in the conditional and we will execute this only if the \"if\" is True\n",
    "print(\"End of the if clause\") #This is outside the conditional"
   ]
  },
  {
   "cell_type": "code",
   "execution_count": 4,
   "id": "22c193bf",
   "metadata": {},
   "outputs": [
    {
     "name": "stdout",
     "output_type": "stream",
     "text": [
      "X is lower than 10\n",
      "End of the if clause\n"
     ]
    }
   ],
   "source": [
    "#Conditional statement type 2\n",
    "x = 9\n",
    "if x > 10: #if is the basic operator of the conditional statement.\n",
    "    print(\"X is greater than 10\") #The identation indicates that we are in the conditional and we will execute this only if the \"if\" is True\n",
    "else:\n",
    "    print(\"X is lower than 10\")\n",
    "print(\"End of the if clause\") #This is outside the conditional"
   ]
  },
  {
   "cell_type": "code",
   "execution_count": 5,
   "id": "b17987a7",
   "metadata": {},
   "outputs": [
    {
     "name": "stdout",
     "output_type": "stream",
     "text": [
      "X is equal to 0\n",
      "End of the if clause\n"
     ]
    }
   ],
   "source": [
    "#Conditional statement type 3\n",
    "x = 0\n",
    "if x > 10: #if is the basic operator of the conditional statement.\n",
    "    print(\"X is greater than 10\") #The identation indicates that we are in the conditional and we will execute this only if the \"if\" is True\n",
    "elif x == 0: #2nd condition that will be executed only if the \"if\" is False.\n",
    "    print(\"X is equal to 0\")\n",
    "else: #It will be executed only if all the other conditions are False\n",
    "    print(\"X is lower than 10\")\n",
    "print(\"End of the if clause\") #This is outside the conditional"
   ]
  },
  {
   "cell_type": "code",
   "execution_count": 15,
   "id": "35331d2e",
   "metadata": {},
   "outputs": [
    {
     "name": "stdout",
     "output_type": "stream",
     "text": [
      "La a és igual a: 1\n",
      "La b10\n",
      "3\n",
      "4\n",
      "b is the maximum\n"
     ]
    }
   ],
   "source": [
    "#E1. Given 4 numbers (a, b, c and d) find the maximum\n",
    "a, b, c, d = int(input(\"La a és igual a: \")), int(input(\"La b és igual a: \")), int(input(\"La c és igual a: \")), int(input(\"La d és igual a: \")) #Per afegir els números des del teclat.\n",
    "if (a > b) & (a > c) & (a > d):\n",
    "    print(\"a is the maximum\")\n",
    "elif (b > a) & (b > c) & (b > d):\n",
    "    print(\"b is the maximum\")\n",
    "elif (c > a) & (c > b) & (c > d):\n",
    "    print(\"c is the maximum\")\n",
    "else:\n",
    "    print(\"d is the maximum\")"
   ]
  },
  {
   "cell_type": "code",
   "execution_count": 20,
   "id": "de889bb3",
   "metadata": {},
   "outputs": [
    {
     "name": "stdout",
     "output_type": "stream",
     "text": [
      "La a és igual a: 1\n",
      "La b és igual a: 0\n",
      "La c és igual a: 1\n",
      "a i c són màxims\n",
      "c és el màxim\n"
     ]
    }
   ],
   "source": [
    "#E2. Find the maximum of 3 numbers considering that the numbers can be equal and there can be 2 o 3 maximums\n",
    "a, b, c = int(input(\"La a és igual a: \")), int(input(\"La b és igual a: \")), int(input(\"La c és igual a: \"))\n",
    "if (a >= b) & (a >= c):\n",
    "    if (a == b) & (a == c):\n",
    "        print(\"Els tres són màxims\")\n",
    "    elif (a == b):\n",
    "        print(\"a i b són màxims\")\n",
    "    elif (a == c):\n",
    "        print(\"a i c són màxims\")\n",
    "    else:\n",
    "        print(\"a és l'únic màxim\")\n",
    "elif (b >= a) & (b >= c):\n",
    "    if (b == c):\n",
    "        print(\"b i c són maxims\")\n",
    "    else:\n",
    "        print(\"b és el màxim\")\n",
    "else:\n",
    "    print(\"c és el màxim\")"
   ]
  },
  {
   "cell_type": "code",
   "execution_count": 54,
   "id": "49e26a9b",
   "metadata": {},
   "outputs": [
    {
     "name": "stdout",
     "output_type": "stream",
     "text": [
      "The bigger sequence is: ATTCGGAAGG\n",
      "The motif we are searching is: CGGA\n",
      "The bigger sequence starts in: 0\n",
      "The motif sequence starts in: 3\n",
      "3 4 4\n",
      "True, both sequences are overlapped\n"
     ]
    }
   ],
   "source": [
    "\"\"\"\n",
    "[E3] Given 2 sequences of DNA. The first sequence is mapping\n",
    "from position seq1_begin to seq1_end, and the second is\n",
    "mapping from position seq2_begin to seq2_end. Write a small\n",
    "script that detects if both fragments are overlapping.\n",
    "\n",
    "We write a program that tests if two DNA sequences are overlapped following the complementary rule.\n",
    "We have to write an script with 2 DNA sequences (not only positions) and we compare each position. We have to see if one is inside the other and if it is overlapped\n",
    "One sequence is smaller than the other. Test if the smaller is inside the other and test if they are overlapped.\n",
    "Two conditions to consider: \n",
    "   If the smaller is inside the bigger.\n",
    "   If the smaller have some bases inside the same motif of the bigger one, they are overlapped. It is not necessary to overlap with the same letter, only with the motif (taking into account the beggining and the end.\n",
    "    \n",
    "Ex: DNA 1: ATTCGGAAGG\n",
    "    DNA 2: CGGA\n",
    "These sequences are overlapped because the attC, the C is part of the motif of the small sequence CGGA\n",
    "\"\"\"\n",
    "DNA1, DNA2 = input(\"The bigger sequence is: \"), input(\"The motif we are searching is: \") #We store the data\n",
    "seq1_begin, seq1_end = int(input(\"The bigger sequence starts in: \")), seq1_begin+len(DNA1) #We store the data\n",
    "seq2_begin, seq2_end = int(input(\"The motif sequence starts in: \")), seq2_begin+len(DNA2) #We store the data\n",
    "#1rst condition: the motif is inside the bigger sequence\n",
    "if DNA2 in DNA1:\n",
    "    #2nd conditions. If the sequence is partially or totally overlapped: \n",
    "    #1rst clause: if the motif end is inside the other sequence.\n",
    "    #2nd clause: if the motif begin is inside the other sequence.\n",
    "    #We have to meet one or the other\n",
    "    print(DNA1.find(DNA2)+seq1_begin, seq2_end, seq2_end)\n",
    "    if (DNA1.find(DNA2)+seq1_begin <= seq2_end <= seq2_end) | (DNA1.find(DNA2)+seq1_begin <= seq2_begin <= DNA1.find(DNA2)+seq1_begin+len(DNA2)): \n",
    "        print(\"True, both sequences are overlapped\")\n",
    "    else:\n",
    "        print(\"False, they are not overlapped\")\n",
    "else:\n",
    "    print(\"False, they are not overlapped\")"
   ]
  },
  {
   "cell_type": "code",
   "execution_count": 61,
   "id": "a83bbc13",
   "metadata": {},
   "outputs": [
    {
     "name": "stdout",
     "output_type": "stream",
     "text": [
      "The bigger sequence is: ATTCGGAAGG\n",
      "The motif we are searching is: CGGA\n",
      "The bigger sequence starts in: 2\n",
      "The motif sequence starts in: 4\n",
      "2 12 4 8 ATTCGGAAGG CGGA 10 4\n",
      "5 12 8\n",
      "True, both sequences are overlapped\n"
     ]
    }
   ],
   "source": [
    "DNA1, DNA2 = input(\"The bigger sequence is: \"), input(\"The motif we are searching is: \") #We store the data\n",
    "seq1_begin,  seq2_begin = int(input(\"The bigger sequence starts in: \")), int(input(\"The motif sequence starts in: \")) #We store the data\n",
    "seq1_end, seq2_end = seq1_begin+len(DNA1), seq2_begin+len(DNA2) #We store the data\n",
    "#1rst condition: the motif is inside the bigger sequence\n",
    "if DNA2 in DNA1:\n",
    "    #2nd conditions. If the sequence is partially or totally overlapped: \n",
    "    #1rst clause: if the motif end is inside the other sequence.\n",
    "    #2nd clause: if the motif begin is inside the other sequence.\n",
    "    #We have to meet one or the other\n",
    "    print(DNA1.find(DNA2)+seq1_begin, seq1_end, seq2_end)\n",
    "    if (DNA1.find(DNA2)+seq1_begin <= seq2_end <= seq1_end) | (DNA1.find(DNA2)+seq1_begin <= seq2_begin <= DNA1.find(DNA2)+seq1_begin+len(DNA2)): \n",
    "        print(\"True, both sequences are overlapped\")\n",
    "    else:\n",
    "        print(\"False, they are not overlapped\")\n",
    "else:\n",
    "    print(\"False, they are not overlapped\")"
   ]
  },
  {
   "cell_type": "code",
   "execution_count": 42,
   "id": "464f8700",
   "metadata": {},
   "outputs": [
    {
     "name": "stdout",
     "output_type": "stream",
     "text": [
      "10\n",
      "11\n",
      "12\n",
      "13\n",
      "14\n",
      "15\n",
      "16\n",
      "17\n",
      "18\n",
      "19\n"
     ]
    }
   ],
   "source": [
    "#Iterative statements --> While loop. It ios used when we wnat to iterate until a certain condition is met.\n",
    "x = 10\n",
    "while x < 20: #Take into consideration that while may be an infinite loop. \n",
    "    print(x)\n",
    "    x += 1"
   ]
  },
  {
   "cell_type": "code",
   "execution_count": 46,
   "id": "2700c6cd",
   "metadata": {},
   "outputs": [
    {
     "name": "stdout",
     "output_type": "stream",
     "text": [
      "0\n",
      "1\n",
      "2\n",
      "3\n",
      "4\n",
      "Hi\n",
      "Hi\n",
      "Hi\n",
      "Hi\n",
      "Hi\n",
      "Hi\n",
      "Hi\n",
      "Hi\n",
      "A\n",
      "l\n",
      "b\n",
      "e\n",
      "r\n",
      "t\n"
     ]
    }
   ],
   "source": [
    "#Iterative statements --> For loop. We use this when we know how many times we want to iterate or when we iterate using another object. \n",
    "for x in range(5): #Range function may accept different parameters. The last position is always the number - 1 (it starts from 0 or what we want.  \n",
    "    print(x)\n",
    "    \n",
    "for _ in range(2, 10): \n",
    "    print(\"Hi\")\n",
    "    \n",
    "name = \"Albert\"\n",
    "for x in name: #If we want to iterate over an object/collection.\n",
    "    print(x)"
   ]
  },
  {
   "cell_type": "code",
   "execution_count": 49,
   "id": "bcb929a4",
   "metadata": {},
   "outputs": [
    {
     "name": "stdout",
     "output_type": "stream",
     "text": [
      "The row is: 0 and the column is 0\n",
      "The row is: 0 and the column is 1\n",
      "The row is: 0 and the column is 2\n",
      "The row is: 1 and the column is 0\n",
      "The row is: 1 and the column is 1\n",
      "The row is: 1 and the column is 2\n",
      "The row is: 2 and the column is 0\n",
      "The row is: 2 and the column is 1\n",
      "The row is: 2 and the column is 2\n"
     ]
    }
   ],
   "source": [
    "#Iterative statements --> Nested iterative structure\n",
    "for row in range(3):\n",
    "    for column in range(3):\n",
    "        print(f\"The row is: {row} and the column is {column}\")"
   ]
  },
  {
   "cell_type": "code",
   "execution_count": 64,
   "id": "3fdfd87e",
   "metadata": {},
   "outputs": [
    {
     "name": "stdout",
     "output_type": "stream",
     "text": [
      "2\n",
      "4\n",
      "6\n",
      "8\n",
      "10\n",
      "12\n",
      "14\n",
      "16\n",
      "18\n",
      "20\n",
      "22\n",
      "24\n",
      "26\n",
      "28\n",
      "30\n",
      "32\n",
      "34\n",
      "36\n",
      "38\n",
      "40\n",
      "42\n",
      "44\n",
      "46\n",
      "48\n",
      "50\n",
      "52\n",
      "54\n",
      "56\n",
      "58\n",
      "60\n",
      "62\n",
      "64\n",
      "66\n",
      "68\n",
      "70\n",
      "72\n",
      "74\n",
      "76\n",
      "78\n",
      "80\n",
      "82\n",
      "84\n",
      "86\n",
      "88\n",
      "90\n",
      "92\n",
      "94\n",
      "96\n",
      "98\n",
      "100\n"
     ]
    }
   ],
   "source": [
    "#Break and continue commands\n",
    "x = 1\n",
    "while x < 100:\n",
    "    x += 1\n",
    "    if x % 2 == 1: #To print only even numbers, we will find the odd numbers and avoid to print them\n",
    "        continue\n",
    "    print(x)\n",
    "    "
   ]
  },
  {
   "cell_type": "code",
   "execution_count": null,
   "id": "f7842a7c",
   "metadata": {},
   "outputs": [],
   "source": [
    "#Exercices --> Section 4."
   ]
  },
  {
   "cell_type": "code",
   "execution_count": 65,
   "id": "1a32752f",
   "metadata": {},
   "outputs": [
    {
     "name": "stdout",
     "output_type": "stream",
     "text": [
      "1\n",
      "3\n",
      "5\n",
      "7\n",
      "9\n",
      "11\n",
      "13\n",
      "15\n",
      "17\n",
      "19\n",
      "21\n",
      "23\n",
      "25\n",
      "27\n",
      "29\n",
      "31\n",
      "33\n",
      "35\n",
      "37\n",
      "39\n",
      "41\n",
      "43\n",
      "45\n",
      "47\n",
      "49\n",
      "51\n",
      "53\n",
      "55\n",
      "57\n",
      "59\n",
      "61\n",
      "63\n",
      "65\n",
      "67\n",
      "69\n",
      "71\n",
      "73\n",
      "75\n",
      "77\n",
      "79\n",
      "81\n",
      "83\n",
      "85\n",
      "87\n",
      "89\n",
      "91\n",
      "93\n",
      "95\n",
      "97\n",
      "99\n"
     ]
    }
   ],
   "source": [
    "#E1. Print all odd numbers from 1 to 100 using a while loop. Repeat using a for loop.\n",
    "i = 0\n",
    "while i < 100:\n",
    "    i+1\n",
    "    if i % 2 == 0:\n",
    "        break\n",
    "    print(i)\n",
    "\n",
    "for x in range(1, 100, 2):\n",
    "    print(x)"
   ]
  },
  {
   "cell_type": "code",
   "execution_count": 68,
   "id": "d3ee750d",
   "metadata": {},
   "outputs": [
    {
     "name": "stdout",
     "output_type": "stream",
     "text": [
      "0 50\n",
      "1 49\n",
      "2 48\n",
      "3 47\n",
      "4 46\n",
      "5 45\n",
      "6 44\n",
      "7 43\n",
      "8 42\n",
      "9 41\n",
      "10 40\n",
      "11 39\n",
      "12 38\n",
      "13 37\n",
      "14 36\n",
      "15 35\n",
      "16 34\n",
      "17 33\n",
      "18 32\n",
      "19 31\n",
      "20 30\n",
      "21 29\n",
      "22 28\n",
      "23 27\n",
      "24 26\n",
      "25 25\n",
      "26 24\n",
      "27 23\n",
      "28 22\n",
      "29 21\n",
      "30 20\n",
      "31 19\n",
      "32 18\n",
      "33 17\n",
      "34 16\n",
      "35 15\n",
      "36 14\n",
      "37 13\n",
      "38 12\n",
      "39 11\n",
      "40 10\n",
      "41 9\n",
      "42 8\n",
      "43 7\n",
      "44 6\n",
      "45 5\n",
      "46 4\n",
      "47 3\n",
      "48 2\n",
      "49 1\n",
      "50 0\n"
     ]
    }
   ],
   "source": [
    "#E2. Print all pairs of numbers below 100 that add up to 50.\n",
    "x, y = 0, 50\n",
    "for i in range(51):\n",
    "    print(x+i, y-i)"
   ]
  },
  {
   "cell_type": "code",
   "execution_count": 75,
   "id": "6a1e2e55",
   "metadata": {},
   "outputs": [
    {
     "name": "stdout",
     "output_type": "stream",
     "text": [
      "A A A T 1\n",
      "A A A C 2\n",
      "A A A G 3\n",
      "A A T A 4\n",
      "A A T T 5\n",
      "A A T C 6\n",
      "A A T G 7\n",
      "A A C A 8\n",
      "A A C T 9\n",
      "A A C C 10\n",
      "A A C G 11\n",
      "A A G A 12\n",
      "A A G T 13\n",
      "A A G C 14\n",
      "A A G G 15\n",
      "A T A A 16\n",
      "A T A T 17\n",
      "A T A C 18\n",
      "A T A G 19\n",
      "A T T A 20\n",
      "A T T T 21\n",
      "A T T C 22\n",
      "A T T G 23\n",
      "A T C A 24\n",
      "A T C T 25\n",
      "A T C C 26\n",
      "A T C G 27\n",
      "A T G A 28\n",
      "A T G T 29\n",
      "A T G C 30\n",
      "A T G G 31\n",
      "A C A A 32\n",
      "A C A T 33\n",
      "A C A C 34\n",
      "A C A G 35\n",
      "A C T A 36\n",
      "A C T T 37\n",
      "A C T C 38\n",
      "A C T G 39\n",
      "A C C A 40\n",
      "A C C T 41\n",
      "A C C C 42\n",
      "A C C G 43\n",
      "A C G A 44\n",
      "A C G T 45\n",
      "A C G C 46\n",
      "A C G G 47\n",
      "A G A A 48\n",
      "A G A T 49\n",
      "A G A C 50\n",
      "A G A G 51\n",
      "A G T A 52\n",
      "A G T T 53\n",
      "A G T C 54\n",
      "A G T G 55\n",
      "A G C A 56\n",
      "A G C T 57\n",
      "A G C C 58\n",
      "A G C G 59\n",
      "A G G A 60\n",
      "A G G T 61\n",
      "A G G C 62\n",
      "A G G G 63\n",
      "T A A A 64\n",
      "T A A T 65\n",
      "T A A C 66\n",
      "T A A G 67\n",
      "T A T A 68\n",
      "T A T T 69\n",
      "T A T C 70\n",
      "T A T G 71\n",
      "T A C A 72\n",
      "T A C T 73\n",
      "T A C C 74\n",
      "T A C G 75\n",
      "T A G A 76\n",
      "T A G T 77\n",
      "T A G C 78\n",
      "T A G G 79\n",
      "T T A A 80\n",
      "T T A T 81\n",
      "T T A C 82\n",
      "T T A G 83\n",
      "T T T A 84\n",
      "T T T C 85\n",
      "T T T G 86\n",
      "T T C A 87\n",
      "T T C T 88\n",
      "T T C C 89\n",
      "T T C G 90\n",
      "T T G A 91\n",
      "T T G T 92\n",
      "T T G C 93\n",
      "T T G G 94\n",
      "T C A A 95\n",
      "T C A T 96\n",
      "T C A C 97\n",
      "T C A G 98\n",
      "T C T A 99\n",
      "T C T T 100\n",
      "T C T C 101\n",
      "T C T G 102\n",
      "T C C A 103\n",
      "T C C T 104\n",
      "T C C C 105\n",
      "T C C G 106\n",
      "T C G A 107\n",
      "T C G T 108\n",
      "T C G C 109\n",
      "T C G G 110\n",
      "T G A A 111\n",
      "T G A T 112\n",
      "T G A C 113\n",
      "T G A G 114\n",
      "T G T A 115\n",
      "T G T T 116\n",
      "T G T C 117\n",
      "T G T G 118\n",
      "T G C A 119\n",
      "T G C T 120\n",
      "T G C C 121\n",
      "T G C G 122\n",
      "T G G A 123\n",
      "T G G T 124\n",
      "T G G C 125\n",
      "T G G G 126\n",
      "C A A A 127\n",
      "C A A T 128\n",
      "C A A C 129\n",
      "C A A G 130\n",
      "C A T A 131\n",
      "C A T T 132\n",
      "C A T C 133\n",
      "C A T G 134\n",
      "C A C A 135\n",
      "C A C T 136\n",
      "C A C C 137\n",
      "C A C G 138\n",
      "C A G A 139\n",
      "C A G T 140\n",
      "C A G C 141\n",
      "C A G G 142\n",
      "C T A A 143\n",
      "C T A T 144\n",
      "C T A C 145\n",
      "C T A G 146\n",
      "C T T A 147\n",
      "C T T T 148\n",
      "C T T C 149\n",
      "C T T G 150\n",
      "C T C A 151\n",
      "C T C T 152\n",
      "C T C C 153\n",
      "C T C G 154\n",
      "C T G A 155\n",
      "C T G T 156\n",
      "C T G C 157\n",
      "C T G G 158\n",
      "C C A A 159\n",
      "C C A T 160\n",
      "C C A C 161\n",
      "C C A G 162\n",
      "C C T A 163\n",
      "C C T T 164\n",
      "C C T C 165\n",
      "C C T G 166\n",
      "C C C A 167\n",
      "C C C T 168\n",
      "C C C G 169\n",
      "C C G A 170\n",
      "C C G T 171\n",
      "C C G C 172\n",
      "C C G G 173\n",
      "C G A A 174\n",
      "C G A T 175\n",
      "C G A C 176\n",
      "C G A G 177\n",
      "C G T A 178\n",
      "C G T T 179\n",
      "C G T C 180\n",
      "C G T G 181\n",
      "C G C A 182\n",
      "C G C T 183\n",
      "C G C C 184\n",
      "C G C G 185\n",
      "C G G A 186\n",
      "C G G T 187\n",
      "C G G C 188\n",
      "C G G G 189\n",
      "G A A A 190\n",
      "G A A T 191\n",
      "G A A C 192\n",
      "G A A G 193\n",
      "G A T A 194\n",
      "G A T T 195\n",
      "G A T C 196\n",
      "G A T G 197\n",
      "G A C A 198\n",
      "G A C T 199\n",
      "G A C C 200\n",
      "G A C G 201\n",
      "G A G A 202\n",
      "G A G T 203\n",
      "G A G C 204\n",
      "G A G G 205\n",
      "G T A A 206\n",
      "G T A T 207\n",
      "G T A C 208\n",
      "G T A G 209\n",
      "G T T A 210\n",
      "G T T T 211\n",
      "G T T C 212\n",
      "G T T G 213\n",
      "G T C A 214\n",
      "G T C T 215\n",
      "G T C C 216\n",
      "G T C G 217\n",
      "G T G A 218\n",
      "G T G T 219\n",
      "G T G C 220\n",
      "G T G G 221\n",
      "G C A A 222\n",
      "G C A T 223\n",
      "G C A C 224\n",
      "G C A G 225\n",
      "G C T A 226\n",
      "G C T T 227\n",
      "G C T C 228\n",
      "G C T G 229\n",
      "G C C A 230\n",
      "G C C T 231\n",
      "G C C C 232\n",
      "G C C G 233\n",
      "G C G A 234\n",
      "G C G T 235\n",
      "G C G C 236\n",
      "G C G G 237\n",
      "G G A A 238\n",
      "G G A T 239\n",
      "G G A C 240\n",
      "G G A G 241\n",
      "G G T A 242\n",
      "G G T T 243\n",
      "G G T C 244\n",
      "G G T G 245\n",
      "G G C A 246\n",
      "G G C T 247\n",
      "G G C C 248\n",
      "G G C G 249\n",
      "G G G A 250\n",
      "G G G T 251\n",
      "G G G C 252\n",
      "The total number of combinatios are: 252\n"
     ]
    }
   ],
   "source": [
    "#E3. Print and count all possible 4-mers (i.e., all possible combinations of ACGT of length 4). Repeat avoiding combinations containing just one base (e.g., “AAAA”, “CCCC”).\n",
    "DNA = (\"A\", \"T\", \"C\", \"G\") #It is possible to do it with a string object.\n",
    "contador = 0 #To count the number of iterations. \n",
    "#Since we want a 4-mer, we need 4 for loops to obtain all possible combinations. \n",
    "for base_element1 in DNA:\n",
    "    for base_element2 in DNA:\n",
    "        for base_element3 in DNA:\n",
    "            for base_element4 in DNA:\n",
    "                #To take into account the restriction, we do not print or count the AAAA, CCCC, GGGG or TTTT combinations\n",
    "                if base_element1 == base_element2 == base_element3 == base_element4:\n",
    "                    continue\n",
    "                contador+=1\n",
    "                print(base_element1, base_element2, base_element3, base_element4, contador)\n",
    "print(f\"The total number of combinatios are: {contador}\")"
   ]
  },
  {
   "cell_type": "code",
   "execution_count": 109,
   "id": "c1220ae0",
   "metadata": {},
   "outputs": [
    {
     "name": "stdout",
     "output_type": "stream",
     "text": [
      "Introduce the levels of the pyramid: 4\n",
      "      *      \n",
      "    * * *    \n",
      "  * * * * *  \n",
      "* * * * * * * \n",
      "\n"
     ]
    }
   ],
   "source": [
    "#Exercices part 5. E1 Given an integer, plot on the console a pyramid made of asterisks like the following\n",
    "number = int(input(\"Introduce the levels of the pyramid: \")) #Number of levels.The 1rst level will have  \n",
    "pyramid = \"\"\n",
    "#We will always start with 1 asterisk in the 1rst level. \n",
    "asterisks = 1\n",
    "#The number of blanks on the left side. We will always start with the number of levels + 2 blanks. Then, we will reduce -2 each level.\n",
    "blanks = 2*number-2\n",
    "for level in range(1, number+1):#We iterate over each level\n",
    "    #Try to find the number of asterisks and blanks for each level. \n",
    "    pyramid += (\" \"*blanks)+(\"* \"*asterisks)+(\" \"*(blanks-1))+\"\\n\"\n",
    "    #Each consecutive level, we will have 2 extra asterisks with one blank behind. \n",
    "    asterisks += 2\n",
    "    #For each level, we will have 2 less blanks on the right side.\n",
    "    blanks -= 2\n",
    "print(pyramid)"
   ]
  },
  {
   "cell_type": "code",
   "execution_count": 117,
   "id": "962880ab",
   "metadata": {},
   "outputs": [
    {
     "name": "stdout",
     "output_type": "stream",
     "text": [
      "Introduce the levels of the pyramid: 4\n",
      "   *\n",
      "  ***\n",
      " *****\n",
      "*******\n"
     ]
    }
   ],
   "source": [
    "#E1 Given an integer, plot on the console a pyramid made of asterisks like the following\n",
    "#Per sense els espais en blanc\n",
    "n = int(input(\"Introduce the levels of the pyramid: \"))\n",
    "for i in range(n):\n",
    "    #The first part are the blanks, the second part are the numbers of asterisks in each level taking into account that we start in the 0 level, \n",
    "    print(\" \"*(n-i-1)+\"*\"*(2*i+1))"
   ]
  },
  {
   "cell_type": "code",
   "execution_count": 110,
   "id": "eada462d",
   "metadata": {},
   "outputs": [
    {
     "name": "stdout",
     "output_type": "stream",
     "text": [
      "Introduce the levels of the pyramid: 4\n",
      "   *   \n",
      "  * *  \n",
      " * * * \n",
      "* * * * \n",
      "\n"
     ]
    }
   ],
   "source": [
    "#E2 Given an integer, plot on the console a pyramid made of asterisks like the following\n",
    "number = int(input(\"Introduce the levels of the pyramid: \")) #Number of levels.The 1rst level will have  \n",
    "pyramid = \"\"\n",
    "#We will always start with 1 asterisk in the 1rst level. \n",
    "asterisks = 1\n",
    "#The number of blanks on the left side. We will always start with the number of levels + 2 blanks. Then, we will reduce -2 each level.\n",
    "blanks = number-1\n",
    "for level in range(1, number+1):#We iterate over each level\n",
    "    #Try to find the number of asterisks and blanks for each level. \n",
    "    pyramid += (\" \"*blanks)+(\"* \"*asterisks)+(\" \"*(blanks-1))+\"\\n\"\n",
    "    #Each consecutive level, we will have 2 extra asterisks with one blank behind. \n",
    "    asterisks += 1\n",
    "    #For each level, we will have 2 less blanks on the right side.\n",
    "    blanks -= 1\n",
    "print(pyramid)"
   ]
  },
  {
   "cell_type": "code",
   "execution_count": null,
   "id": "58642fbb",
   "metadata": {},
   "outputs": [],
   "source": [
    "#Assignment!\n",
    "box_size, grid_size = int(input(\"The size of the box is: \")), input((\"The size of the grid is: \"))\n",
    "figure=\"\"\n",
    "#Firstly try to generate the grid. \n",
    "for row_boxes in grid_size: \n",
    "    for row in range(1, box_size+1):\n",
    "        for column in range(1, box_size+1):\n",
    "            if column"
   ]
  },
  {
   "cell_type": "code",
   "execution_count": null,
   "id": "eb4340fd",
   "metadata": {},
   "outputs": [],
   "source": [
    "#FUNCTIONS"
   ]
  },
  {
   "cell_type": "code",
   "execution_count": 118,
   "id": "e799a38e",
   "metadata": {},
   "outputs": [],
   "source": [
    "#Basic structure of a function. The parameters of the function (num1 and num2) only exists inside the function and act like variables. \n",
    "def add2Numbers(num1, num2):\n",
    "    result = num1 + num2\n",
    "    return result"
   ]
  },
  {
   "cell_type": "code",
   "execution_count": 119,
   "id": "3a70dc9f",
   "metadata": {},
   "outputs": [
    {
     "data": {
      "text/plain": [
       "10"
      ]
     },
     "execution_count": 119,
     "metadata": {},
     "output_type": "execute_result"
    }
   ],
   "source": [
    "# The 4 will be assigned to the \"num1\" parameter and the 6 will be assigned to the \"num2\" parameter. \n",
    "add2Numbers(4, 6)"
   ]
  },
  {
   "cell_type": "code",
   "execution_count": 122,
   "id": "3364f010",
   "metadata": {},
   "outputs": [],
   "source": [
    "#What if sometimes we want to sum 2 and other times 3\n",
    "def add2_or3_Numbers(num1=0, num2=0, num3=0, num4=0): #If we want only, the num3 and num4 will be 0. We can add default numbers to parameters.\n",
    "    result= num1 + num2 + num3 + num4 #By default, every number is 0. This will change if we want any number.\n",
    "    return result"
   ]
  },
  {
   "cell_type": "code",
   "execution_count": 123,
   "id": "08afd4db",
   "metadata": {},
   "outputs": [
    {
     "name": "stdout",
     "output_type": "stream",
     "text": [
      "19\n"
     ]
    }
   ],
   "source": [
    "r = add2_or3_Numbers(3, 6, 10)\n",
    "print(r)"
   ]
  },
  {
   "cell_type": "code",
   "execution_count": null,
   "id": "2a4e2509",
   "metadata": {},
   "outputs": [],
   "source": [
    "\"\"\"\n",
    "DIA 3 (22/9/23)\n",
    "\"\"\""
   ]
  },
  {
   "cell_type": "code",
   "execution_count": 1,
   "id": "1f34153a",
   "metadata": {},
   "outputs": [],
   "source": [
    "#Recursive function\n",
    "\n",
    "#Example of a recursive function. We have to think about 2 cases: when the function has to end and the rest cases (general case). \n",
    "def countDown(n):\n",
    "    if n == 0: #When we have discounted everything, return it. \n",
    "        return \n",
    "    else: #General case, when the recursion progress.\n",
    "        print(n)\n",
    "        countDown(n-1)"
   ]
  },
  {
   "cell_type": "code",
   "execution_count": 15,
   "id": "371a4859",
   "metadata": {},
   "outputs": [
    {
     "data": {
      "text/plain": [
       "120"
      ]
     },
     "execution_count": 15,
     "metadata": {},
     "output_type": "execute_result"
    }
   ],
   "source": [
    "factorial_2(5)"
   ]
  },
  {
   "cell_type": "code",
   "execution_count": 13,
   "id": "eb4d5630",
   "metadata": {},
   "outputs": [],
   "source": [
    "#Example 2. The factorial of a number\n",
    "#The iterative way. \n",
    "def factorial(n):\n",
    "    result = n\n",
    "    for i in range(1, n):\n",
    "        result *= i\n",
    "    return result\n",
    "#The recursive function\n",
    "def factorial_2(n):\n",
    "    #The base case is when we arrive to 1. \n",
    "    if n == 1:\n",
    "        return 1 #This will be executed at the end, and the function will carry out the other operations (2*1*3*4*5 if n == 5)\n",
    "    #The general case\n",
    "    else:\n",
    "        return n*factorial_2(n-1) #The factorial is executed before the return.\n",
    "#The multiplication will not be executed until the entire operation can be done."
   ]
  },
  {
   "cell_type": "code",
   "execution_count": null,
   "id": "814b336d",
   "metadata": {},
   "outputs": [],
   "source": [
    "#Final exercices\n",
    "#At home!"
   ]
  },
  {
   "cell_type": "code",
   "execution_count": null,
   "id": "b272e18e",
   "metadata": {},
   "outputs": [],
   "source": [
    "#DATA STRUCTURE"
   ]
  },
  {
   "cell_type": "code",
   "execution_count": 17,
   "id": "cb7e6656",
   "metadata": {},
   "outputs": [
    {
     "data": {
      "text/plain": [
       "'jav'"
      ]
     },
     "execution_count": 17,
     "metadata": {},
     "output_type": "execute_result"
    }
   ],
   "source": [
    "#Strings\n",
    "string = \"javier\"\n",
    "string[0:3]"
   ]
  },
  {
   "cell_type": "code",
   "execution_count": 23,
   "id": "b4e4e617",
   "metadata": {},
   "outputs": [
    {
     "data": {
      "text/plain": [
       "'TAG'"
      ]
     },
     "execution_count": 23,
     "metadata": {},
     "output_type": "execute_result"
    }
   ],
   "source": [
    "#Bear in mind that, if we are writing in a reverse way, the first one is not included in the 0. \n",
    "dna = \"GATTACA\"\n",
    "dna[2::-1]"
   ]
  },
  {
   "cell_type": "code",
   "execution_count": 33,
   "id": "5a89b65e",
   "metadata": {},
   "outputs": [
    {
     "name": "stdout",
     "output_type": "stream",
     "text": [
      "          JA JAS            \n",
      "JA JAS\n",
      "['javi', '39', 'bcn']\n"
     ]
    }
   ],
   "source": [
    "#String methods.\n",
    "string = \"          JA JAS            \"\n",
    "print(string)\n",
    "print(string.strip()) #To delete the white spaces at the beggining and the end.\n",
    "string2 = \"javi-39-bcn\"\n",
    "print(string2.split('-')) #It creates a list separating the elements using a separation character."
   ]
  },
  {
   "cell_type": "code",
   "execution_count": 40,
   "id": "d79d4e5b",
   "metadata": {},
   "outputs": [
    {
     "name": "stdout",
     "output_type": "stream",
     "text": [
      "GBTTBCB\n",
      "3\n",
      "5\n"
     ]
    }
   ],
   "source": [
    "dna = \"GATTACA\"\n",
    "print(dna.replace(\"A\", \"B\")) #We replace the original A character with the B.\n",
    "print(dna.count(\"A\")) #Count counts the number of occurrences of a given character or substring.\n",
    "print(dna.find(\"CA\")) #It returns the index of the first occurence. "
   ]
  },
  {
   "cell_type": "code",
   "execution_count": 42,
   "id": "f3fbf501",
   "metadata": {},
   "outputs": [
    {
     "name": "stdout",
     "output_type": "stream",
     "text": [
      "G\n",
      "A\n",
      "T\n",
      "T\n",
      "A\n",
      "C\n",
      "A\n"
     ]
    }
   ],
   "source": [
    "#Iterating over a string. \n",
    "dna = \"GATTACA\"\n",
    "for x in dna: #It iterates over every letter, which will be stored in the x variable.. \n",
    "    print(x)"
   ]
  },
  {
   "cell_type": "code",
   "execution_count": 50,
   "id": "126f4bb0",
   "metadata": {},
   "outputs": [],
   "source": [
    "#Lists\n",
    "my_list = [\"orange\",\"apple\",\"banana\"]\n",
    "len(my_list) #To know the size of my list. \n",
    "#The operator in is used to know if something is inside the list or not\n",
    "\"melon\" in my_list #Returns false if there's not or True if there's. \n",
    "my_list[1] #It returns apple. \n",
    "my_list[-2] #The same as before. \n",
    "my_list[1:3] #To obtain a subset of elements. It will return the last two. \n",
    "my_list[0] = 333233 #To rewrite the element in the index 0."
   ]
  },
  {
   "cell_type": "code",
   "execution_count": 63,
   "id": "c520f878",
   "metadata": {},
   "outputs": [
    {
     "name": "stdout",
     "output_type": "stream",
     "text": [
      "['melon', 'banana']\n"
     ]
    }
   ],
   "source": [
    "#List methods\n",
    "my_list = [\"orange\",\"apple\",\"banana\"]\n",
    "my_list.append(\"melon\") #To add at the end a new element\n",
    "my_list.insert(1, \"melon\") #To specify where we want to introduce a new element. The 1rst parameter is the position and the second is the element\n",
    "my_list.count(\"melon\") #To count the number of elements. \n",
    "my_list.pop() #It is used to remove elements. Without arguments, it removes the last element.\n",
    "my_list.pop(0) #With arguments, we can indicate the index of the element we want to remove.\n",
    "my_list.remove(\"apple\") #To remove elements using their name, not their index. Without parameters, it removes the first element of the list.\n",
    "print(my_list)"
   ]
  },
  {
   "cell_type": "code",
   "execution_count": 65,
   "id": "b5467193",
   "metadata": {},
   "outputs": [
    {
     "name": "stdout",
     "output_type": "stream",
     "text": [
      "My original list is ['orange', 'apple', 'banana'], and my new list is ['orange', 'apple', 'banana']\n",
      "The new list now is [20, 'apple', 'banana'] and the old [20, 'apple', 'banana']\n",
      "My original list is ['orange', 'apple', 'banana'], and my new list is ['orange', 'apple', 'banana']\n",
      "The new list now is [20, 'apple', 'banana'] and the old ['orange', 'apple', 'banana']\n"
     ]
    }
   ],
   "source": [
    "my_list = [\"orange\",\"apple\",\"banana\"]\n",
    "new_list = my_list\n",
    "print(f\"My original list is {my_list}, and my new list is {new_list}\")\n",
    "new_list[0] = 20\n",
    "print(\"The new list now is\", new_list, \"and the old\", my_list)\n",
    "#This way, both lists are being modified. \n",
    "\n",
    "#For that reason, to copy a list, we import a library to copy the list. \n",
    "import copy\n",
    "my_list = [\"orange\",\"apple\",\"banana\"]\n",
    "new_list = copy.copy(my_list)\n",
    "print(f\"My original list is {my_list}, and my new list is {new_list}\")\n",
    "new_list[0] = 20\n",
    "print(\"The new list now is\", new_list, \"and the old\", my_list)"
   ]
  },
  {
   "cell_type": "code",
   "execution_count": 71,
   "id": "fc9f257f",
   "metadata": {},
   "outputs": [
    {
     "data": {
      "text/plain": [
       "'orange'"
      ]
     },
     "execution_count": 71,
     "metadata": {},
     "output_type": "execute_result"
    }
   ],
   "source": [
    "#Tuples\n",
    "my_tuple = (\"apple\", \"banana\", \"orange\")\n",
    "#my_tuple[0] = \"melon\" #Tuples do not support item assignment, you cannot modify anything. It will call an error.\n",
    "my_tuple[2]"
   ]
  },
  {
   "cell_type": "code",
   "execution_count": 72,
   "id": "d7351f2c",
   "metadata": {},
   "outputs": [
    {
     "data": {
      "text/plain": [
       "{'banana', 'melon', 'orange'}"
      ]
     },
     "execution_count": 72,
     "metadata": {},
     "output_type": "execute_result"
    }
   ],
   "source": [
    "#sets\n",
    "my_set = {\"orange\", \"apple\", \"banana\"}\n",
    "my_set.add(\"melon\") #It won't be added at the end of the set, but at the penultima position.\n",
    "my_set.discard(\"apple\")\n",
    "my_set"
   ]
  },
  {
   "cell_type": "code",
   "execution_count": 90,
   "id": "6d7dec06",
   "metadata": {},
   "outputs": [
    {
     "name": "stdout",
     "output_type": "stream",
     "text": [
      "Tom 30\n",
      "Maria 40\n",
      "Javier 26\n"
     ]
    },
    {
     "data": {
      "text/plain": [
       "{'Tom': 30, 'Maria': 40, 'Javier': 26}"
      ]
     },
     "execution_count": 90,
     "metadata": {},
     "output_type": "execute_result"
    }
   ],
   "source": [
    "#Dictionaries. \n",
    "persons = {\n",
    "    #Key :  Value\n",
    "    \"Tom\" : 30,\n",
    "    \"Maria\" : 40,\n",
    "    \"Andrew\" : 25,\n",
    "    \"Javier\" : 32\n",
    "}\n",
    "persons[\"Maria\"] #To obtain the value associated to a key. \n",
    "\n",
    "#Methods\n",
    "persons.pop(\"Andrew\") #It removes the given element and returns it. \n",
    "\"Maria\" in persons #To find if a key is in a dictionary. \n",
    "persons[\"Javier\"] = 39 #To add new elements, we just name a new key and its value. No methods are necessary. \n",
    "\n",
    "#We canot modify the key of an element, only its associated value.\n",
    "persons[\"Javier\"] = 26\n",
    "#Iterations\n",
    "for e in persons: #We iterate over the key. \n",
    "    print(e, persons.get(e))"
   ]
  },
  {
   "cell_type": "code",
   "execution_count": 100,
   "id": "0db36bda",
   "metadata": {},
   "outputs": [
    {
     "name": "stdout",
     "output_type": "stream",
     "text": [
      "ACATTAG\n",
      "ACATTAG\n",
      "ACATTAG\n"
     ]
    }
   ],
   "source": [
    "#String exercices\n",
    "dna = \"GATTACA\"\n",
    "#E1\n",
    "def reverse_sequence(seq_1):\n",
    "    return seq_1[::-1]\n",
    "print(reverse_sequence(dna))\n",
    "\n",
    "#E2\n",
    "def iterative_rs(seq_1):\n",
    "    rv = \"\"\n",
    "    for base in seq_1[::-1]:\n",
    "        rv+= base\n",
    "    return rv\n",
    "print(iterative_rs(dna))\n",
    "\n",
    "#E3\n",
    "def recursive_rs(seq_1):\n",
    "    #Base case\n",
    "    if len(seq_1) == 1:\n",
    "        return seq_1\n",
    "    #Global case\n",
    "    else:\n",
    "        return seq_1[-1]+recursive_rs(seq_1[0:-1]) #You obtain the last element and you repeat the iteration eliminating the last one\n",
    "print(recursive_rs(dna))"
   ]
  },
  {
   "cell_type": "code",
   "execution_count": 130,
   "id": "5b521edf",
   "metadata": {},
   "outputs": [
    {
     "name": "stdout",
     "output_type": "stream",
     "text": [
      "['b', 'e']\n",
      "['b', 'e']\n"
     ]
    }
   ],
   "source": [
    "#Exercices lists. E3\n",
    "#a) --> Iterative.\n",
    "def iterative_common_elements(list_1, list_2):\n",
    "    common=[]\n",
    "    #We iterate over one list\n",
    "    for n in list_1:\n",
    "        #We search if the given character is inside the other list. If true, append it. \n",
    "        if (n in list_2) == True:\n",
    "            common.append(n)\n",
    "    return common\n",
    "tlist_1, tlist_2 = [\"a\", \"b\", \"c\", \"d\", \"e\", 'f'], [\"Patata al vapor\", \"b\", \"ejejjeje\", \"e\"]\n",
    "print(iterative_common_elements(tlist_1, tlist_2))\n",
    "\n",
    "#b) Recursive\n",
    "def recursive_common_elements(list_1, list_2): \n",
    "    #Basal case\n",
    "    #The last iteration, we have to stop the recursive function. \n",
    "    if len(list_1) == 1:\n",
    "        if (list_1[0] in list_2):\n",
    "            return [list_1[0]]\n",
    "        else:\n",
    "            #Remember that we have to return something, because we are summing with the anterior iterations. We need another list to be able to concatenate them. \n",
    "            return []\n",
    "    #General case\n",
    "    else:\n",
    "        #If we find the element, we save it in a list format. \n",
    "        if (list_1[0] in list_2):\n",
    "            return [list_1[0]]+recursive_common_elements(list_1[1:], list_2)\n",
    "        #if we do not find it, repeat everything again substracting the first element of the list. \n",
    "        else:\n",
    "            return recursive_common_elements(list_1[1:], list_2)\n",
    "print(recursive_common_elements(tlist_1, tlist_2))"
   ]
  },
  {
   "cell_type": "code",
   "execution_count": 149,
   "id": "a88638f4",
   "metadata": {},
   "outputs": [
    {
     "data": {
      "text/plain": [
       "{'GATCG': 5,\n",
       " 'ATCGA': 5,\n",
       " 'CTAGC': 4,\n",
       " 'TCGAT': 4,\n",
       " 'CGATC': 4,\n",
       " 'TAGCA': 2,\n",
       " 'AGCAT': 2,\n",
       " 'GCATG': 2,\n",
       " 'GACTA': 2,\n",
       " 'ACTAG': 2,\n",
       " 'TAGCT': 2,\n",
       " 'AGCTA': 2,\n",
       " 'GCGCG': 2,\n",
       " 'CGCGC': 2,\n",
       " 'AGCAG': 1,\n",
       " 'GCAGC': 1,\n",
       " 'CAGCA': 1,\n",
       " 'CATGC': 1,\n",
       " 'ATGCA': 1,\n",
       " 'TGCAG': 1,\n",
       " 'GCAGT': 1,\n",
       " 'CAGTC': 1,\n",
       " 'AGTCT': 1,\n",
       " 'GTCTG': 1,\n",
       " 'TCTGA': 1,\n",
       " 'CTGAC': 1,\n",
       " 'TGACT': 1,\n",
       " 'GCTAG': 1,\n",
       " 'GCTAC': 1,\n",
       " 'CTACG': 1,\n",
       " 'TACGT': 1,\n",
       " 'ACGTA': 1,\n",
       " 'CGTAC': 1,\n",
       " 'GTACG': 1,\n",
       " 'TACGG': 1,\n",
       " 'ACGGA': 1,\n",
       " 'CGGAT': 1,\n",
       " 'GGATC': 1,\n",
       " 'ATCGT': 1,\n",
       " 'TCGTA': 1,\n",
       " 'CGTAT': 1,\n",
       " 'GTATA': 1,\n",
       " 'TATAT': 1,\n",
       " 'ATATA': 1,\n",
       " 'TATAG': 1,\n",
       " 'ATAGC': 1,\n",
       " 'TAGCG': 1,\n",
       " 'AGCGC': 1,\n",
       " 'GCGCA': 1,\n",
       " 'CGCAT': 1,\n",
       " 'GCATC': 1,\n",
       " 'CATCG': 1,\n",
       " 'TCGAC': 1,\n",
       " 'CGACT': 1}"
      ]
     },
     "execution_count": 149,
     "metadata": {},
     "output_type": "execute_result"
    }
   ],
   "source": [
    "#Dicctionaries exercices. E3\n",
    "def count_kmers(seq_1, k):\n",
    "    dicc={}\n",
    "    for n in range(len(seq_1)-k+1):\n",
    "        if seq_1[n:n+k] in dicc:\n",
    "            dicc[seq_1[n:n+k]] += 1\n",
    "        else:\n",
    "            dicc[seq_1[n:n+k]] = 1\n",
    "    #Here we could only return dicc and it would be correct.\n",
    "    return dict(sorted(dicc.items(), key=lambda x:x[1], reverse = True)) #Totally useful. This code is used to sort the dictionary depending on the key values. \n",
    "count_kmers(\"CTAGCAGCATGCAGTCTGACTAGCTAGCTACGTACGGATCGATCGATCGTATATAGCGCGCGCATCGATCGATCGACTAGCATG\", 5)\n",
    "\n",
    "#Aprendre el setdefault per crear un objecte nou sense necessitat de tenir el if. "
   ]
  },
  {
   "cell_type": "code",
   "execution_count": null,
   "id": "d553a9cd",
   "metadata": {},
   "outputs": [],
   "source": [
    "\"\"\"\n",
    "Dia 5\n",
    "\"\"\""
   ]
  },
  {
   "cell_type": "code",
   "execution_count": 1,
   "id": "82afc569",
   "metadata": {},
   "outputs": [
    {
     "name": "stdout",
     "output_type": "stream",
     "text": [
      "Introduce your name: Albert\n",
      "Introduce your age: 22\n"
     ]
    }
   ],
   "source": [
    "#Input examples\n",
    "name = input(\"Introduce your name: \")\n",
    "age = int(input(\"Introduce your age: \"))"
   ]
  },
  {
   "cell_type": "code",
   "execution_count": 4,
   "id": "3557c5ea",
   "metadata": {},
   "outputs": [
    {
     "name": "stdout",
     "output_type": "stream",
     "text": [
      "Line 1\n",
      "\n",
      "We are in the line 1, which is: Line 1\n",
      "\n",
      "We are in the line 2, which is: line 2\n",
      "\n",
      "We are in the line 3, which is: line 3\n",
      "\n",
      "We are in the line 4, which is: line 4\n",
      "\n",
      "We are in the line 5, which is: line 5\n",
      "\n"
     ]
    }
   ],
   "source": [
    "#To read a file using python\n",
    "name_file = open(\"textfile.txt\", \"rt\") #rt because we are reading (\"r\") a text file (\"t\") (both parameters together)\n",
    "\n",
    "\n",
    "line = name_file.readline() #This function reads the first line of the file, or a new one.\n",
    "print(line) #This will print only the first line of the file, because it is the only one we have read.\n",
    "#To read this file, we will repeat a block of statements the ammount of lines we want to read\n",
    "#We need an iterative structure\n",
    "no_line = 0\n",
    "while line: #This loop will continue until line has nothing inside. \n",
    "    no_line += 1 #This variable is only used to print the line we are in, but it is useless. We start at 1. \n",
    "    print(f\"We are in the line {no_line}, which is: {line}\")\n",
    "    line = name_file.readline() #We will read line by line. Every time we execute this code python will read the following line, starting with the first one\n",
    "name_file.close() #We have to close the file using this syntax. "
   ]
  },
  {
   "cell_type": "code",
   "execution_count": 8,
   "id": "6b1de4c5",
   "metadata": {},
   "outputs": [
    {
     "name": "stdout",
     "output_type": "stream",
     "text": [
      "0 Line 1\n",
      "\n",
      "1 line 2\n",
      "\n",
      "2 line 3\n",
      "\n",
      "3 line 4\n",
      "\n",
      "4 line 5\n",
      "\n"
     ]
    }
   ],
   "source": [
    "#To read a file using python and a for loop.\n",
    "name_file = open(\"textfile.txt\", \"rt\") #rt because we are reading (\"r\") a text file (\"t\") (both parameters together)\n",
    "\n",
    "#To read this file, we will repeat a block of statements the ammount of lines we want to read\n",
    "#We need an iterative structure\n",
    "no_line = 0\n",
    "for line in name_file: #The line variable will have in it every line of the file in each iteration.\n",
    "    no_line += 1 #This variable is only used to print the line we are in, but it is useless. We start at 1. \n",
    "    print(f\"We are in the line {no_line}, which is: {line}\")\n",
    "\n",
    "for index, linea in enumerate(name_file): #Function enumerate to obtain the index of each line so we can print them avoiding to add a new variable.\n",
    "    print(index, linea)\n",
    "name_file.close() #We have to close the file using this syntax. "
   ]
  },
  {
   "cell_type": "code",
   "execution_count": 11,
   "id": "00281617",
   "metadata": {},
   "outputs": [
    {
     "name": "stdout",
     "output_type": "stream",
     "text": [
      "['Line 1\\n', 'line 2\\n', 'line 3\\n', 'line 4\\n', 'line 5\\n']\n"
     ]
    }
   ],
   "source": [
    "#We can read every line at the same time. This method is NOT RECOMMENDED.\n",
    "name_file = open(\"textfile.txt\", \"rt\") #rt because we are reading (\"r\") a text file (\"t\") (both parameters together)\n",
    "lines = list(name_file) #This saves us in a list every line of the textfile.\n",
    "print(lines)\n",
    "name_file.close()"
   ]
  },
  {
   "cell_type": "code",
   "execution_count": 12,
   "id": "798d1b4d",
   "metadata": {},
   "outputs": [
    {
     "name": "stdout",
     "output_type": "stream",
     "text": [
      "164047 3761 54\n"
     ]
    }
   ],
   "source": [
    "#Example. Develop a program that read a file and count the occurrences the number of characters, the number of lines and the occurrecnes of the word rabbit\n",
    "alice_file = open(\"alice.txt\", \"rt\") #We read the archive. \n",
    "characters, num_lines, word_rabbit = 0, 0, 0 #The variables we want to count-\n",
    "for line in alice_file: #The for loop.\n",
    "    characters += len(line)\n",
    "    num_lines += 1 \n",
    "    word_rabbit += line.lower().count(\"rabbit\") #or [Rr]abbit\n",
    "alice_file.close() #We close the archive.\n",
    "print(characters, num_lines, word_rabbit)"
   ]
  },
  {
   "cell_type": "code",
   "execution_count": 13,
   "id": "60b21cdd",
   "metadata": {},
   "outputs": [
    {
     "name": "stdout",
     "output_type": "stream",
     "text": [
      "164047 3761 54\n"
     ]
    }
   ],
   "source": [
    "#Using the with open to solve the problem. \n",
    "with open(\"alice.txt\", \"r\") as name_file: #We could do similarly to the last exercice, without the readlines but iterating while insithe the archive in a for line in name_file to have each line in \"line\"\n",
    "    contents = name_file.readlines()\n",
    "characters, num_lines, word_rabbit = 0, 0, 0\n",
    "for line in contents:\n",
    "    characters += len(line)\n",
    "    num_lines += 1\n",
    "    word_rabbit += line.lower().count(\"rabbit\")\n",
    "print(characters, num_lines, word_rabbit)"
   ]
  },
  {
   "cell_type": "code",
   "execution_count": 16,
   "id": "e35665eb",
   "metadata": {},
   "outputs": [],
   "source": [
    "#Basics of how to write a file\n",
    "f = open(\"newfile.txt\", \"wt\") #The file we want to create\n",
    "line = \"First line of my new file\\n\" #The content we will write in the file\n",
    "f.write(line)\n",
    "f.close()"
   ]
  },
  {
   "cell_type": "code",
   "execution_count": 23,
   "id": "0474e7af",
   "metadata": {},
   "outputs": [],
   "source": [
    "#How to write a file --> having the same content as the alice.txt file replacing rabit with duck word. \n",
    "alice_file = open(\"alice.txt\", \"rt\")\n",
    "#We will create a new textfile\n",
    "file_alice_duck = open(\"alice_no_rabbit\", \"wt\") #My new file\n",
    "for line in alice_file: #We iterate in every line of the first file.\n",
    "    #contingut = line.replace(\"Rabbit\", \"Duck\").replace(\"rabbit\", \"duck\") #We can also create a new variable with two replace. \n",
    "    file_alice_duck.write(line.replace(\"[Rr]abbit\", \"[Dd]uck\")) #This syntax allows us to replace both upper and lower case.\n",
    "alice_file.close()\n",
    "file_alice_duck.close()"
   ]
  },
  {
   "cell_type": "code",
   "execution_count": 39,
   "id": "b263e62d",
   "metadata": {},
   "outputs": [],
   "source": [
    "#How to append information to an existing file\n",
    "f = open(\"alice.txt\", \"at\")\n",
    "f.write(\"This is a new line\\n\") #The new line we are adding\n",
    "f.close()"
   ]
  },
  {
   "cell_type": "code",
   "execution_count": 26,
   "id": "1a80c98b",
   "metadata": {},
   "outputs": [
    {
     "name": "stdout",
     "output_type": "stream",
     "text": [
      "What file you want to read? alice.txt\n",
      "Line 1: ﻿The Project Gutenberg eBook of Alice’s Adventures in Wonderland, by Lewis Carroll\n",
      "\n",
      "Line 2: \n",
      "\n",
      "Line 3: This eBook is for the use of anyone anywhere in the United States and\n",
      "\n",
      "Line 4: most other parts of the world at no cost and with almost no restrictions\n",
      "\n",
      "Line 5: whatsoever. You may copy it, give it away or re-use it under the terms\n",
      "\n",
      "Do you want to keep on reading (Y/N)? Y\n",
      "Line 6: of the Project Gutenberg License included with this eBook or online at\n",
      "\n",
      "Line 7: www.gutenberg.org. If you are not located in the United States, you\n",
      "\n",
      "Line 8: will have to check the laws of the country where you are located before\n",
      "\n",
      "Line 9: using this eBook.\n",
      "\n",
      "Line 10: \n",
      "\n",
      "Do you want to keep on reading (Y/N)? Y\n",
      "Line 11: Title: Alice’s Adventures in Wonderland\n",
      "\n",
      "Line 12: \n",
      "\n",
      "Line 13: Author: Lewis Carroll\n",
      "\n",
      "Line 14: \n",
      "\n",
      "Line 15: Release Date: January, 1991 [eBook #11]\n",
      "\n",
      "Do you want to keep on reading (Y/N)? N\n",
      "You will exit the archive\n"
     ]
    }
   ],
   "source": [
    "#Exercises of File I/O (2)\n",
    "#E1.\n",
    "file_name = input(\"What file you want to read? \")\n",
    "with open(file_name, \"r\") as f: #We open the file as \"f\"\n",
    "    for index, line in enumerate(f): #we start iterating in each line, saving in index the index (we will add 1 to have multiples of 5 equivalent to each line)\n",
    "        print(f\"Line {index+1}: {line}\")\n",
    "        if (index+1)%5 == 0: #When we have already printed 5 lines, we will ask if the user wants to continue\n",
    "            question = input(\"Do you want to keep on reading (Y/N)? \")\n",
    "            if question == \"N\":\n",
    "                print(\"You will exit the archive\")\n",
    "                break\n",
    "f.close()"
   ]
  },
  {
   "cell_type": "code",
   "execution_count": 37,
   "id": "6588841e",
   "metadata": {},
   "outputs": [],
   "source": [
    "#E2\n",
    "with open(\"changed_alice.txt\", \"w\") as f_changed:\n",
    "    with open(\"alice.txt\", \"r\") as f:\n",
    "        for line in f: #We start iterating among every line of the file\n",
    "            f_changed.write(line.replace(\"A\", \"I\").replace(\"E\", \"I\").replace(\"O\", \"I\").replace(\"U\", \"I\").replace(\"a\", \"i\").replace(\"e\", \"i\").replace(\"o\", \"i\").replace(\"u\", \"i\")) #Haven't found anothger way to do it\n",
    "\n",
    "\n",
    "#E2 (both ways work)\n",
    "f_changed = open(\"changed_alice.txt\", \"wt\")\n",
    "f = open(\"alice.txt\", \"rt\")\n",
    "for line in f:\n",
    "    f_changed.write(line.replace(\"A\", \"I\").replace(\"E\", \"I\").replace(\"O\", \"I\").replace(\"U\", \"I\").replace(\"a\", \"i\").replace(\"e\", \"i\").replace(\"o\", \"i\").replace(\"u\", \"i\")) #Haven't found anothger way to do it\n",
    "f_changed.close()"
   ]
  },
  {
   "cell_type": "code",
   "execution_count": 42,
   "id": "fc489d3d",
   "metadata": {},
   "outputs": [
    {
     "ename": "AttributeError",
     "evalue": "module 'datetime' has no attribute 'now'",
     "output_type": "error",
     "traceback": [
      "\u001b[0;31m---------------------------------------------------------------------------\u001b[0m",
      "\u001b[0;31mAttributeError\u001b[0m                            Traceback (most recent call last)",
      "Cell \u001b[0;32mIn[42], line 3\u001b[0m\n\u001b[1;32m      1\u001b[0m \u001b[38;5;66;03m#E3\u001b[39;00m\n\u001b[1;32m      2\u001b[0m \u001b[38;5;28;01mimport\u001b[39;00m \u001b[38;5;21;01mdatetime\u001b[39;00m\n\u001b[0;32m----> 3\u001b[0m datetime\u001b[38;5;241m.\u001b[39mnow()\n",
      "\u001b[0;31mAttributeError\u001b[0m: module 'datetime' has no attribute 'now'"
     ]
    }
   ],
   "source": [
    "#E3\n"
   ]
  },
  {
   "cell_type": "code",
   "execution_count": 49,
   "id": "10a2c7fa",
   "metadata": {},
   "outputs": [],
   "source": [
    "#Transform a FASTQ file to a FASTA (Albert's way)\n",
    "def fromFASTQtoFASTA(file_input, file_output): #We give a FASTQ file\n",
    "    contingut = \"\" #All the elements we will write in our new FAST\n",
    "    with open(file_input) as f: #We read the file and save it in a list\n",
    "        totes_linies = f.readlines()\n",
    "        #We start iterating over every line, but 4 as a step. We have to do the readlines() because we cannot do len(f)\n",
    "    for index_line in range(0,len(totes_linies), 4): #We will iterate every 4 lines to get only the first two with one index\n",
    "        contingut+= (\">\"+totes_linies[index_line][1:]) #In the first line, we change the @ and add >.\n",
    "        contingut+= totes_linies[index_line+1]\n",
    "    with open(file_output, \"w\") as f_2:\n",
    "        f_2.write(contingut)"
   ]
  },
  {
   "cell_type": "code",
   "execution_count": 52,
   "id": "770a7142",
   "metadata": {},
   "outputs": [],
   "source": [
    "#Transform a FASTQ file to a FASTA (Adria's way) This one is far more memory efficient (we do not save all the archive in an object, we can go line by line)\n",
    "def fromFASTQtoFASTA_V2(file_input, file_output): #We give a FASTQ file\n",
    "    with open(file_input) as f: #We read the file and save it in a list\n",
    "        with open(file_output, \"w\") as f_2:\n",
    "        #We start iterating over every line, but 4 as a step. We have to do the readlines() because we cannot do len(f)\n",
    "            for index, line in enumerate(f): #We iterate over each line, saving the index.\n",
    "                if (index % 4) == 0: #When this is true, save the line because this will be the first line in every sequence.\n",
    "                    f_2.write(\">\"+line[1:]) #We can also write line.replace(\"@\", \">\").\n",
    "                elif (index % 4) == 1: #When this is true, we will save the sequence.\n",
    "                    f_2.write(line)"
   ]
  },
  {
   "cell_type": "code",
   "execution_count": 53,
   "id": "b481bf9b",
   "metadata": {},
   "outputs": [],
   "source": [
    "fromFASTQtoFASTA(\"mbio.sample.fastq\", \"example2_file.txt\")\n",
    "fromFASTQtoFASTA_V2(\"mbio.sample.fastq\", \"example2_file.txt\")"
   ]
  },
  {
   "cell_type": "code",
   "execution_count": 56,
   "id": "84bf4dca",
   "metadata": {},
   "outputs": [
    {
     "data": {
      "text/plain": [
       "52"
      ]
     },
     "execution_count": 56,
     "metadata": {},
     "output_type": "execute_result"
    }
   ],
   "source": [
    "#Review exercises (4)\n",
    "#E1. Given a FASTQ, implement a script that counts the total number of \"TATA\" box that appears.\n",
    "def Count_TATA(file_input): #We give a FASTQ file to the function\n",
    "    TATA_counts = 0\n",
    "    with open(file_input) as f: #We open a connection with the file\n",
    "        for index, line in enumerate(f): #We save the index and lanes to select only the line with the sequence.\n",
    "            if (index % 4 == 1): #When the module is 1, we will have the 2nd line in every 4 iterations (each iteration start with 0 - 1 - 2 - 3).\n",
    "                TATA_counts += line.count(\"TATA\") #We count the number of TATA elements that we find in the desired lines.\n",
    "    return TATA_counts\n",
    "\n",
    "Count_TATA(\"mbio.sample.fastq\")"
   ]
  },
  {
   "cell_type": "code",
   "execution_count": 56,
   "id": "5d74cce6",
   "metadata": {},
   "outputs": [],
   "source": [
    "#E2. How reads appear aligned in the SAM file.\n",
    "def process_SAM(file_input):\n",
    "    with open(file_input) as f: #We make the connection with the file\n",
    "        for index, line in enumerate(f): #I do not know the desired output, so I will do what I can.\n",
    "            seq_name, seq_position, sequence = line.split(\"\\t\")[0], line.split(\"\\t\")[3], line.split(\"\\t\")[9] #We cannot do the \\t in the print(f\"\") structure, so we can save the objects before to use what we want later.\n",
    "            print(f\"The sequence number {index+1} has the following attributes: name {seq_name}; starting position {seq_position}; and nucleotide sequence {sequence}\")\n",
    "\n",
    "process_SAM(\"mbio.sample.sam\")"
   ]
  },
  {
   "cell_type": "code",
   "execution_count": 58,
   "id": "b9b2cd5a",
   "metadata": {},
   "outputs": [
    {
     "data": {
      "text/plain": [
       "956"
      ]
     },
     "execution_count": 58,
     "metadata": {},
     "output_type": "execute_result"
    }
   ],
   "source": [
    "#E3. Read a VCF file and count how many variants are SNP and how mane are indel.\n",
    "def count_SNP_VCF(file_input):\n",
    "    SNPs_found = 0\n",
    "    bases = (\"A\", \"C\", \"G\", \"T\")\n",
    "    with open(file_input) as f:\n",
    "        for line in f:\n",
    "            if not line.startswith(\"#\"): #The first lines start with an \"#\"\" always (at least in the dataset that was given to us), after\n",
    "                if  (line.split(\"\\t\")[3] in bases) and (line.split(\"\\t\")[4] in bases): #When both elements are just bases, then save it\n",
    "                    SNPs_found += 1\n",
    "    return SNPs_found \n",
    "count_SNP_VCF(\"mbio.sample.vcf\")"
   ]
  },
  {
   "cell_type": "code",
   "execution_count": 63,
   "id": "64181848",
   "metadata": {},
   "outputs": [],
   "source": [
    "#ASSIGNMENT 2\n",
    "import argparse\n",
    "\n",
    "#Function for case: Reverse-Complement (will be activated only if it is specified: --operation rc)\n",
    "def reverse_complement(DNA_1): #Will take only the sequence as arguments.\n",
    "    reversa_comp = DNA_1[::-1].translate(str.maketrans(\"ACTG\", \"TGAC\"))\n",
    "    return reversa_comp\n",
    "\n",
    "#Function for case: Trim (will be activated only if it is specified: --operator trim)\n",
    "def Trim_seq(DNA_1, left, right): #Will take the sequence, and the number of bases we want to trim (from both ends)\n",
    "    return DNA_1[left:(len(DNA_1)-right)] #We remove the right part and the left part. \n",
    "\n",
    "#Function for case: Adaptor removal (will be activated only if it is specified: --opration adaptor-removal)\n",
    "def Adaptor_eraser(DNA_1, seq_adaptor):\n",
    "    if seq_adaptor == DNA_1[:(len(seq_adaptor))]: #If the first elements of the sequence is equals to our adaptor, we will trim it\n",
    "        return DNA_1[len(seq_adaptor):]\n",
    "\n",
    "\n",
    "    \n",
    "#STRUCTURE OF MY PROGRAM: GIVEN --input [file] --output [file] --operator [operation]\n",
    "\n",
    "#Argparses. \n",
    "arguments = argparse.Argumentsparser() #This line saves in arguments all the arguments given.\n",
    "\n",
    "argument.add_argument() #\n",
    "\n",
    "\n"
   ]
  },
  {
   "cell_type": "code",
   "execution_count": 64,
   "id": "c032c67e",
   "metadata": {},
   "outputs": [
    {
     "data": {
      "text/plain": [
       "'ATTN'"
      ]
     },
     "execution_count": 64,
     "metadata": {},
     "output_type": "execute_result"
    }
   ],
   "source": [
    "Trim_seq(\"GAATTN\", 2, 0)"
   ]
  },
  {
   "cell_type": "code",
   "execution_count": null,
   "id": "4111d2c0",
   "metadata": {},
   "outputs": [],
   "source": [
    "\"\"\"\n",
    "Dia 6 - 2/10/23\n",
    "\"\"\""
   ]
  },
  {
   "cell_type": "code",
   "execution_count": 5,
   "id": "8434f4bc",
   "metadata": {},
   "outputs": [
    {
     "name": "stdout",
     "output_type": "stream",
     "text": [
      "SEQ 0\n"
     ]
    }
   ],
   "source": [
    "import re #We need to import this to create a regular expression\n",
    "# --> r'pattern' this is the basic strcuture.\n",
    "text = \"SEQ=ACGTACGT ID=1990223 REFERENCE=REF00_200\"\n",
    "match = re.search(r'SEQ', text) #Search method is used to find a pattern in a given object. The 1rst parameter is the pattern (with an r at the front).\n",
    "if match: #If the variable match has data:\n",
    "    print(match.group(), match.start(), match.end()) #To print the pattern found (method group), and start (to print the index where it starts), and end (to pring where it ends)."
   ]
  },
  {
   "cell_type": "code",
   "execution_count": 6,
   "id": "fe235111",
   "metadata": {},
   "outputs": [
    {
     "name": "stdout",
     "output_type": "stream",
     "text": [
      "ID=1 13 17\n"
     ]
    }
   ],
   "source": [
    "import re #We need to import this to create a regular expression\n",
    "# --> r'pattern' this is the basic strcuture.\n",
    "text = \"SEQ=ACGTACGT ID=1990223 REFERENCE=REF00_200\"\n",
    "match = re.search(r'ID=1', text) #Search method is used to find a pattern in a given object. The 1rst parameter is the pattern (with an r at the front).\n",
    "if match: #If the variable match has data:\n",
    "    print(match.group(), match.start(), match.end()) #To print the pattern found (method group; if we had more patterns, we would find more results but we have written a constant pattern), and start (to print the index where it starts), and end (to pring where it ends)."
   ]
  },
  {
   "cell_type": "code",
   "execution_count": 19,
   "id": "f15342fb",
   "metadata": {},
   "outputs": [
    {
     "name": "stdout",
     "output_type": "stream",
     "text": [
      "AAAAAC 13 19\n",
      "Trobem el patró AAAAAC que comença a la posició 13 i acaba en la posició 19\n"
     ]
    }
   ],
   "source": [
    "#Pattern that represent multiple sequences. \n",
    "sequence = 'AAAACGTACGACTAAAAACCGCATACGACTGAC'\n",
    "match = re.search(r'AAAA(AC)+', sequence) #Now the pattern is not constant: 4 A, a subsequence (AC) (one or multiple subsequences of AC),\n",
    "if match: \n",
    "    print(match.group(), match.start(), match.end())\n",
    "    print(f'Trobem el patró {match.group()} que comença a la posició {match.start()} i acaba en la posició {match.end()}')"
   ]
  },
  {
   "cell_type": "code",
   "execution_count": 25,
   "id": "6a79cb9c",
   "metadata": {},
   "outputs": [
    {
     "name": "stdout",
     "output_type": "stream",
     "text": [
      "Trobem el patró ACT que comença a la posició 4 i acaba en la posició 7\n"
     ]
    }
   ],
   "source": [
    "#Example 2\n",
    "sequence = \"AAAAACTT\"\n",
    "match = re.search(r'(AC)[GT]', sequence) #(AC) --> Both at the same time; [GT] one or the other.\n",
    "if match:\n",
    "    print(f'Trobem el patró {match.group()} que comença a la posició {match.start()} i acaba en la posició {match.end()}')"
   ]
  },
  {
   "cell_type": "code",
   "execution_count": 26,
   "id": "7607b1fe",
   "metadata": {},
   "outputs": [
    {
     "data": {
      "text/plain": [
       "'TT'"
      ]
     },
     "execution_count": 26,
     "metadata": {},
     "output_type": "execute_result"
    }
   ],
   "source": [
    "match = re.search(r'(GG)|(TT)', sequence)"
   ]
  },
  {
   "cell_type": "code",
   "execution_count": 32,
   "id": "65ee1a49",
   "metadata": {},
   "outputs": [],
   "source": [
    "#Example (II) regular expressions\n",
    "import re\n",
    "with open(\"mbio.sample.fastq\") as f:\n",
    "    with open(\"output_file.txt\", \"w\") as f_2: #Where we will write the results.\n",
    "        for index, line in enumerate(f):\n",
    "            if index % 4 == 0:\n",
    "                tag = line #We save the name of the sequence\n",
    "            elif index % 4 == 1: #We find the TATA sequence in the line in whcih we find the sequence\n",
    "                match = re.search(r'TATA', line) #We can store the pattern in an object like: pattern = r'TATA'\n",
    "                if match:\n",
    "                    f_2.write(f'Found the sequence with:\\n -tag: {tag} -sequence {line}')"
   ]
  },
  {
   "cell_type": "code",
   "execution_count": 38,
   "id": "44dd94c1",
   "metadata": {},
   "outputs": [
    {
     "name": "stdout",
     "output_type": "stream",
     "text": [
      "['AAAC', 'AAAC']\n"
     ]
    }
   ],
   "source": [
    "#Example 3 --> Using findall\n",
    "sequence = \"AAACBBBBBBBBBBAAAC\"\n",
    "match = re.findall(r'AAAC', sequence) \n",
    "print(match) #We can print directly the matches. "
   ]
  },
  {
   "cell_type": "code",
   "execution_count": 40,
   "id": "0b916618",
   "metadata": {},
   "outputs": [
    {
     "name": "stdout",
     "output_type": "stream",
     "text": [
      "['AAA', 'BBBBBBBB', 'AAAC']\n"
     ]
    }
   ],
   "source": [
    "#Example 4 --> Using split\n",
    "sequence = \"AAACBBBBBBBBBCBAAAC\"\n",
    "match = re.split(r'CB', sequence) #The method will divide the sequence in the positions of the pattern (eliminating the pattern)\n",
    "print(match) #We can print directly the matches (it returns a list)."
   ]
  },
  {
   "cell_type": "code",
   "execution_count": 48,
   "id": "8fa1ac31",
   "metadata": {},
   "outputs": [
    {
     "name": "stdout",
     "output_type": "stream",
     "text": [
      "AAAWWWWWBBBBBBBBWWWWWAAAC\n"
     ]
    }
   ],
   "source": [
    "#Example 5 --> Using sub.\n",
    "sequence = \"AAACBBBBBBBBBCBAAAC\"\n",
    "match = re.sub(r'CB', \"WWWWW\", sequence) #The method will divide the sequence in the positions of the pattern (eliminating the pattern)\n",
    "print(match) #We can print directly the matches (it returns a list)."
   ]
  },
  {
   "cell_type": "code",
   "execution_count": 49,
   "id": "bba074dd",
   "metadata": {},
   "outputs": [
    {
     "name": "stdout",
     "output_type": "stream",
     "text": [
      "TXX\n"
     ]
    }
   ],
   "source": [
    "#Example 6 --> [ ].\n",
    "sequence = \"AAACTXXBBBBBBBBBCBAAAC\"\n",
    "match = re.search(r'[ACT]XX', sequence) #It finds only AXX, CXX, TXX\n",
    "print(match.group()) "
   ]
  },
  {
   "cell_type": "code",
   "execution_count": 50,
   "id": "d7c29b86",
   "metadata": {},
   "outputs": [
    {
     "name": "stdout",
     "output_type": "stream",
     "text": [
      "44\n"
     ]
    }
   ],
   "source": [
    "#Example 7 --> \\\n",
    "sequence = \"AAACTXXBBBBBBBBBCBAAACID=44\"\n",
    "match = re.search(r'\\d\\d', sequence) #Here we are searching for 2 digits in a row, not 2 D.\n",
    "print(match.group()) "
   ]
  },
  {
   "cell_type": "code",
   "execution_count": 57,
   "id": "ebdc83ec",
   "metadata": {},
   "outputs": [
    {
     "name": "stdout",
     "output_type": "stream",
     "text": [
      "AWT\n"
     ]
    }
   ],
   "source": [
    "#Example 8 --> .\n",
    "sequence = \"AAAWT\"\n",
    "match = re.search(r'A.T', sequence) #It will find whatever A_T structure.\n",
    "print(match.group()) "
   ]
  },
  {
   "cell_type": "code",
   "execution_count": 59,
   "id": "f17d26b1",
   "metadata": {},
   "outputs": [
    {
     "ename": "AttributeError",
     "evalue": "'NoneType' object has no attribute 'group'",
     "output_type": "error",
     "traceback": [
      "\u001b[0;31m---------------------------------------------------------------------------\u001b[0m",
      "\u001b[0;31mAttributeError\u001b[0m                            Traceback (most recent call last)",
      "Cell \u001b[0;32mIn[59], line 4\u001b[0m\n\u001b[1;32m      2\u001b[0m sequence \u001b[38;5;241m=\u001b[39m \u001b[38;5;124m\"\u001b[39m\u001b[38;5;124mXCAAAA\u001b[39m\u001b[38;5;124m\"\u001b[39m\n\u001b[1;32m      3\u001b[0m match \u001b[38;5;241m=\u001b[39m re\u001b[38;5;241m.\u001b[39msearch(\u001b[38;5;124mr\u001b[39m\u001b[38;5;124m'\u001b[39m\u001b[38;5;124m^CAAA\u001b[39m\u001b[38;5;124m'\u001b[39m, sequence) \n\u001b[0;32m----> 4\u001b[0m \u001b[38;5;28mprint\u001b[39m(match\u001b[38;5;241m.\u001b[39mgroup())\n",
      "\u001b[0;31mAttributeError\u001b[0m: 'NoneType' object has no attribute 'group'"
     ]
    }
   ],
   "source": [
    "#Example 9 --> ^\n",
    "sequence = \"XCAAAA\"\n",
    "match = re.search(r'^CAAA', sequence) #The symbol will mean that we will only match the pattern if it starts at the beggining (won't find anything)\n",
    "print(match.group()) "
   ]
  },
  {
   "cell_type": "code",
   "execution_count": 70,
   "id": "945cfc76",
   "metadata": {},
   "outputs": [
    {
     "ename": "AttributeError",
     "evalue": "'NoneType' object has no attribute 'group'",
     "output_type": "error",
     "traceback": [
      "\u001b[0;31m---------------------------------------------------------------------------\u001b[0m",
      "\u001b[0;31mAttributeError\u001b[0m                            Traceback (most recent call last)",
      "Cell \u001b[0;32mIn[70], line 4\u001b[0m\n\u001b[1;32m      2\u001b[0m sequence \u001b[38;5;241m=\u001b[39m \u001b[38;5;124m\"\u001b[39m\u001b[38;5;124mXCAAAT\u001b[39m\u001b[38;5;124m\"\u001b[39m\n\u001b[1;32m      3\u001b[0m match \u001b[38;5;241m=\u001b[39m re\u001b[38;5;241m.\u001b[39msearch(\u001b[38;5;124mr\u001b[39m\u001b[38;5;124m'\u001b[39m\u001b[38;5;124mCAAA$\u001b[39m\u001b[38;5;124m'\u001b[39m, sequence) \u001b[38;5;66;03m#The symbol will mean that we will only match the pattern if it starts at the beggining (won't find anything)\u001b[39;00m\n\u001b[0;32m----> 4\u001b[0m \u001b[38;5;28mprint\u001b[39m(match\u001b[38;5;241m.\u001b[39mgroup())\n",
      "\u001b[0;31mAttributeError\u001b[0m: 'NoneType' object has no attribute 'group'"
     ]
    }
   ],
   "source": [
    "#Example 10 --> $\n",
    "sequence = \"XCAAAT\"\n",
    "match = re.search(r'CAAA$', sequence) #The symbol will mean that we will only match the pattern if it starts at the beggining (won't find anything)\n",
    "print(match.group()) "
   ]
  },
  {
   "cell_type": "code",
   "execution_count": 74,
   "id": "a61cbdf8",
   "metadata": {},
   "outputs": [
    {
     "name": "stdout",
     "output_type": "stream",
     "text": [
      "C\n"
     ]
    }
   ],
   "source": [
    "#Example 11 --> *.\n",
    "sequence = \"CCAAAAAAAAAT\"\n",
    "match = re.search(r'CA*', sequence) #It it starts with CC, it will return only a C; it we erase the first C, we will have C and multiple A.\n",
    "print(match.group()) "
   ]
  },
  {
   "cell_type": "code",
   "execution_count": 75,
   "id": "f21d120a",
   "metadata": {},
   "outputs": [
    {
     "name": "stdout",
     "output_type": "stream",
     "text": [
      "CAAAAAAA\n"
     ]
    }
   ],
   "source": [
    "#Example 12 --> +\n",
    "sequence = \"CCAAAAAAAAAT\"\n",
    "match = re.search(r'CA+', sequence) \n",
    "print(match.group()) "
   ]
  },
  {
   "cell_type": "code",
   "execution_count": 84,
   "id": "1f3be717",
   "metadata": {},
   "outputs": [
    {
     "name": "stdout",
     "output_type": "stream",
     "text": [
      "CAAAA\n"
     ]
    }
   ],
   "source": [
    "#Example 13 --> {}\n",
    "sequence = \"TTTTTTTTTTTTTTTTTTCAAAAGTGCATGCAT\"\n",
    "match = re.search(r'CA{4}', sequence) \n",
    "print(match.group()) "
   ]
  },
  {
   "cell_type": "code",
   "execution_count": 90,
   "id": "4943599e",
   "metadata": {},
   "outputs": [
    {
     "name": "stdout",
     "output_type": "stream",
     "text": [
      "AAT\n"
     ]
    }
   ],
   "source": [
    "#Example 14 --> |\n",
    "sequence = \"TTTTTTTTTTTTTTTTTTCCAAATAGTGCATGCAT\"\n",
    "match = re.search(r'(CC|AA)T', sequence) #Or CCT or AAT\n",
    "print(match.group()) "
   ]
  },
  {
   "cell_type": "code",
   "execution_count": 94,
   "id": "54a4a4db",
   "metadata": {},
   "outputs": [
    {
     "name": "stdout",
     "output_type": "stream",
     "text": [
      "C\n"
     ]
    }
   ],
   "source": [
    "#Example 15 --> ()\n",
    "sequence = \"CCCCACACACACAAAAAAAAAAAAATTTGGTGTG\"\n",
    "match = re.search(r'C(CA)*', sequence) \n",
    "print(match.group()) "
   ]
  },
  {
   "cell_type": "code",
   "execution_count": 104,
   "id": "665507b9",
   "metadata": {},
   "outputs": [
    {
     "name": "stdout",
     "output_type": "stream",
     "text": [
      "23 23 23\n"
     ]
    }
   ],
   "source": [
    "#More complex structures.\n",
    "text = \"NAME=Santiago INITIAL=S AGE=23\"\n",
    "match = re.search(r'[0123456789][0123456789]',text) #We can do this to find two numbers\n",
    "match_1 = re.search(r'[0-9][0-9]',text) #A more compressed expression\n",
    "match_2 = re.search(r'\\d\\d', text) #Two random digits\n",
    "print(match.group(), match_1.group(), match_2.group())"
   ]
  },
  {
   "cell_type": "code",
   "execution_count": 109,
   "id": "6299e20f",
   "metadata": {},
   "outputs": [
    {
     "name": "stdout",
     "output_type": "stream",
     "text": [
      "ID=Ç\n"
     ]
    }
   ],
   "source": [
    "#Excluding sets.\n",
    "text = \"NAME=Santiago INITIAL=S AGE=23 ID=Ç\"\n",
    "match = re.search(r'ID=[^TQERCBPOPAJ]', text) #It won't consider the given characters as a match.\n",
    "print(match.group())"
   ]
  },
  {
   "cell_type": "code",
   "execution_count": 120,
   "id": "4414b0f1",
   "metadata": {},
   "outputs": [
    {
     "name": "stdout",
     "output_type": "stream",
     "text": [
      "NAME=Santiago\n"
     ]
    }
   ],
   "source": [
    "#We can write ranges of letters\n",
    "text = \"NAME=Santiago AGE=23\"\n",
    "# Matches \"NAME=\" and the 1st lowercase letter\n",
    "match = re.search(r'NAME=[abcdefghijklmnñopqrstuvwxyz]',text)\n",
    "# Matches \"NAME=\" and the 1st letter\n",
    "match = re.search(r'NAME=[a-zA-Z]',text) #We have here two ranges to take into account the first capital letter\n",
    "# Matches \"NAME=\" and the 1st letter or number\n",
    "match = re.search(r'NAME=[a-zA-Z0-9]',text) \n",
    "# Matches \"NAME=\" and the 1st letter, number, or underscore\n",
    "match = re.search(r'NAME=[a-zA-Z0-9_]',text)\n",
    "# Matches \"NAME=\" and the 1st letter, number, or underscore\n",
    "match = re.search(r'NAME=\\w',text) #Here \\W means any character. \n",
    "# Matches \"NAME=\" and the 1st character (except newline)\n",
    "match = re.search(r'NAME=.',text) #After = anything. \n",
    "#If we want the complete name\n",
    "match = re.search(r'NAME=[a-zA-z]*', text) #* because we will repeat it until we have an space. \n",
    "match = re.search(r'NAME=\\W*', text) #* because we will repeat it until we have an space\n",
    "print(match.group())"
   ]
  },
  {
   "cell_type": "code",
   "execution_count": 131,
   "id": "a91c555a",
   "metadata": {},
   "outputs": [
    {
     "name": "stdout",
     "output_type": "stream",
     "text": [
      "TACA\n"
     ]
    }
   ],
   "source": [
    "text = \"ATACAGA\" \n",
    "match = re.search(r'(TA)((CA)|(GA))',text) # It matches TA and  CA or GA- A combination of two elements. \n",
    "print(match.group()) "
   ]
  },
  {
   "cell_type": "code",
   "execution_count": 134,
   "id": "16bf00dc",
   "metadata": {},
   "outputs": [
    {
     "name": "stdout",
     "output_type": "stream",
     "text": [
      "santiago.marco.00@uab.mbio.cat \n",
      "santiago.marco.00\n",
      "uab.mbio\n",
      "cat\n"
     ]
    }
   ],
   "source": [
    "#Group extraction\n",
    "text_line = 'My name is Santi and my email is santiago.marco.00@uab.mbio.cat and ...'\n",
    "match = re.search(r'([^ @]+)@([^ @]+)\\.([^ @]+) ',text_line) #Pattern that follows an email. 1rst: no space or @ (until it find a space or @); then a forced @, then the same; the \\. is used to find a dot, without being a metacharacter.\n",
    "if match:\n",
    "    print (match.group()) ## 'santiago.marco.00@uab.cat' (the whole match)\n",
    "    print (match.group(1)) ## 'santiago.marco.00' (Username, group 1)\n",
    "    print (match.group(2)) ## 'uab' (Host, group 2)\n",
    "    print (match.group(3)) ## 'cat' (Domain, group 3)"
   ]
  },
  {
   "cell_type": "code",
   "execution_count": 67,
   "id": "0e21e3a1",
   "metadata": {},
   "outputs": [
    {
     "name": "stdout",
     "output_type": "stream",
     "text": [
      "The recognition syte GGACC was found in the sequence CAGTCAGTCTAGCGACTGATCGACTGGGACCAAA, startint at the index 26\n"
     ]
    }
   ],
   "source": [
    "#Review exercices --> Regular expressions\n",
    "#[E1] Implement a function that, given a sequence, checks for the presence of an recognition site, which can have two different sequences: GGACC and GGTCC.\n",
    "import re\n",
    "def recog_site(seq):\n",
    "    match = re.search(r'GG[AT]CC', seq) #We recognise both desired motif.\n",
    "    if match:\n",
    "        print(f'The recognition syte {match.group()} was found in the sequence {seq}, starting at the index {match.start()}')\n",
    "recog_site(\"CAGTCAGTCTAGCGACTGATCGACTGGGACCAAA\")"
   ]
  },
  {
   "cell_type": "code",
   "execution_count": 98,
   "id": "b6234782",
   "metadata": {},
   "outputs": [
    {
     "data": {
      "text/plain": [
       "'TACGTCTATGCGTCTG'"
      ]
     },
     "execution_count": 98,
     "metadata": {},
     "output_type": "execute_result"
    }
   ],
   "source": [
    "#[E2] Implement a function that given two strings, a DNA sequence and an adaptor sequence, returns the input DNA sequence without the adaptor if it occurs at the beginning of the sequence.\n",
    "import re\n",
    "def remove_adaptor(seq_1, adaptor):\n",
    "    match = re.search(\"^\"+adaptor, seq_1)\n",
    "    if match: \n",
    "        return seq_1[match.end():]\n",
    "remove_adaptor(\"AAAAGTACGTCTATGCGTCTG\", \"A{4}G\")"
   ]
  },
  {
   "cell_type": "code",
   "execution_count": 115,
   "id": "9809c646",
   "metadata": {},
   "outputs": [
    {
     "data": {
      "text/plain": [
       "'GTACGTCTATGCGTCTG'"
      ]
     },
     "execution_count": 115,
     "metadata": {},
     "output_type": "execute_result"
    }
   ],
   "source": [
    "#E2 but with a list of adaptors\n",
    "def remove_adaptor_list(seq_1, list_adaptor):\n",
    "    for adaptor in list_adaptor: #We iterate in every element within our list.\n",
    "        match = re.search(\"^\"+adaptor, seq_1)\n",
    "        if match: \n",
    "            return seq_1[match.end():]\n",
    "remove_adaptor_list(\"AAAGTACGTCTATGCGTCTG\", [\"A{4}G\", \"AAA\"])"
   ]
  },
  {
   "cell_type": "code",
   "execution_count": 83,
   "id": "e8327bdf",
   "metadata": {},
   "outputs": [
    {
     "name": "stdout",
     "output_type": "stream",
     "text": [
      "AAAAG\n"
     ]
    }
   ],
   "source": [
    "#[E3] A CIGAR string is a sequence of operations (M,I,D) and its length. Implement a function that given a CIGAR string, returns a list with all the operations and its length.\n",
    "def process_CIGAR(cigar): \n",
    "    re.findall(r'\\W', cigar)"
   ]
  },
  {
   "cell_type": "code",
   "execution_count": 141,
   "id": "c0b6b5ee",
   "metadata": {},
   "outputs": [
    {
     "name": "stdout",
     "output_type": "stream",
     "text": [
      "['10M3D5M1I10M']\n"
     ]
    }
   ],
   "source": [
    "CIGARRO = \"10M3D5M1I10M\"\n",
    "match = re.findall(r'\\w+[^\\d]', CIGARRO)\n",
    "print(match)"
   ]
  }
 ],
 "metadata": {
  "kernelspec": {
   "display_name": "Python 3 (ipykernel)",
   "language": "python",
   "name": "python3"
  },
  "language_info": {
   "codemirror_mode": {
    "name": "ipython",
    "version": 3
   },
   "file_extension": ".py",
   "mimetype": "text/x-python",
   "name": "python",
   "nbconvert_exporter": "python",
   "pygments_lexer": "ipython3",
   "version": "3.11.3"
  }
 },
 "nbformat": 4,
 "nbformat_minor": 5
}
